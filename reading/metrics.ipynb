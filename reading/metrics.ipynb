{
 "cells": [
  {
   "cell_type": "markdown",
   "metadata": {},
   "source": [
    "# Metrics"
   ]
  },
  {
   "cell_type": "markdown",
   "metadata": {},
   "source": [
    "Sensitivity: $\\frac{\\#TP}{\\#TP + \\#FN}$\n",
    "\n",
    "Specificity: $\\frac{\\#TP}{\\#TP + \\#FN}$\n",
    "\n",
    "Precision: $\\frac{\\#TP}{\\#TP + \\#FN}$\n",
    "\n",
    "Recall: $\\frac{\\#TP}{\\#TP + \\#FN}$"
   ]
  },
  {
   "cell_type": "markdown",
   "metadata": {
    "collapsed": true
   },
   "source": [
    "$F_1$ Measure: $2\\frac{\\text{precision X recall}}{\\text{precision + recall}}$"
   ]
  },
  {
   "cell_type": "markdown",
   "metadata": {},
   "source": [
    "## ROC Curve\n",
    "\n"
   ]
  }
 ],
 "metadata": {
  "kernelspec": {
   "display_name": "Python 2",
   "language": "python",
   "name": "python2"
  },
  "language_info": {
   "codemirror_mode": {
    "name": "ipython",
    "version": 2
   },
   "file_extension": ".py",
   "mimetype": "text/x-python",
   "name": "python",
   "nbconvert_exporter": "python",
   "pygments_lexer": "ipython2",
   "version": "2.7.10"
  }
 },
 "nbformat": 4,
 "nbformat_minor": 0
}
