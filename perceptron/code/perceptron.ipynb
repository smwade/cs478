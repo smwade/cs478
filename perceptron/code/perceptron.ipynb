{
 "cells": [
  {
   "cell_type": "code",
   "execution_count": 373,
   "metadata": {
    "collapsed": true
   },
   "outputs": [],
   "source": [
    "from __future__ import (absolute_import, division, print_function, unicode_literals)\n",
    "import random\n",
    "import numpy as np\n",
    "from sklearn.metrics import accuracy_score, confusion_matrix\n",
    "from matplotlib import pyplot as plt\n",
    "import matplotlib\n",
    "import matplotlib.cm as cm\n",
    "import seaborn as sns\n",
    "plt.style.use('ggplot')\n",
    "\n",
    "from mltools.dataManager import DataManager\n",
    "from mltools.baseLearner import BaseLearner\n",
    "\n",
    "%matplotlib inline"
   ]
  },
  {
   "cell_type": "code",
   "execution_count": 262,
   "metadata": {
    "collapsed": false,
    "hide_input": false
   },
   "outputs": [],
   "source": [
    "class DataManager:\n",
    "    MISSING = float(\"infinity\")\n",
    "\n",
    "    def __init__(self, arff=None):\n",
    "        \"\"\"\n",
    "        If matrix is provided, all parameters must be provided, and the new matrix will be\n",
    "        initialized with the specified portion of the provided matrix.\n",
    "        \"\"\"\n",
    "        if arff:\n",
    "            self.load_arff(arff)\n",
    "        else:\n",
    "            pass\n",
    "\n",
    "    def init_from(self, matrix, row_start, col_start, row_count, col_count):\n",
    "        \"\"\"Initialize the matrix with a portion of another matrix\"\"\"\n",
    "        self.data = [matrix.data[row][col_start:col_start+col_count] for row in range(row_start, row_start+row_count)]\n",
    "        self.attr_names = matrix.attr_names[col_start:col_start+col_count]\n",
    "        self.str_to_enum = matrix.str_to_enum[col_start:col_start+col_count]    # array of dictionaries\n",
    "        self.enum_to_str = matrix.enum_to_str[col_start:col_start+col_count]    # array of dictionaries\n",
    "        return self\n",
    "\n",
    "    def add_data(self, new_data):\n",
    "        \"\"\"Appends a copy of the specified portion of a matrix to this matrix\"\"\"\n",
    "        self.data = np.vstack((self.data, new_data))\n",
    "\n",
    "    def set_labels(self):\n",
    "        self.labels = self.data[:,-1]\n",
    "        self.data = self.data[:,:-1]\n",
    "\n",
    "    def test_train_split(self, ratio=.8):\n",
    "        self.shuffle()\n",
    "        split_point = int(self.num_rows * ratio)\n",
    "        x_train = self.data[:split_point,:]\n",
    "        x_test = self.data[split_point:,:]\n",
    "        y_train = self.labels[:split_point]\n",
    "        y_test = self.labels[split_point:]\n",
    "        return x_train, x_test, y_train, y_test\n",
    "\n",
    "    def set_size(self, rows, cols):\n",
    "        \"\"\"Resize this matrix (and set all attributes to be continuous)\"\"\"\n",
    "        self.data = [[0]*cols for row in range(rows)]\n",
    "        self.attr_names = [\"\"] * cols\n",
    "        self.str_to_enum = {}\n",
    "        self.enum_to_str = {}\n",
    "\n",
    "    def load_arff(self, filename):\n",
    "        \"\"\" Load data from an ARFF file \"\"\"\n",
    "        self.data = []\n",
    "        self.attr_names = []\n",
    "        self.str_to_enum = []\n",
    "        self.enum_to_str = []\n",
    "        reading_data = False\n",
    "\n",
    "        rows = []           # we read data into array of rows, then convert into array of columns\n",
    "\n",
    "        f = open(filename)\n",
    "        for line in f.readlines():\n",
    "            line = line.rstrip().upper()\n",
    "            if len(line) > 0 and line[0] != '%':\n",
    "                if not reading_data:\n",
    "                    if line.startswith(\"@RELATION\"):\n",
    "                        self.dataset_name = line[9:].strip()\n",
    "                    elif line.startswith(\"@ATTRIBUTE\"):\n",
    "                        attr_def = line[10:].strip()\n",
    "                        if attr_def[0] == \"'\":\n",
    "                            attr_def = attr_def[1:]\n",
    "                            attr_name = attr_def[:attr_def.index(\"'\")]\n",
    "                            attr_def = attr_def[attr_def.index(\"'\")+1:].strip()\n",
    "                        else:\n",
    "                            attr_name, attr_def = attr_def.split()\n",
    "\n",
    "                        self.attr_names += [attr_name]\n",
    "\n",
    "                        str_to_enum = {}\n",
    "                        enum_to_str = {}\n",
    "                        if not(attr_def == \"REAL\" or attr_def == \"CONTINUOUS\" or attr_def == \"INTEGER\"):\n",
    "                            # attribute is discrete\n",
    "                            assert attr_def[0] == '{' and attr_def[-1] == '}'\n",
    "                            attr_def = attr_def[1:-1]\n",
    "                            attr_vals = attr_def.split(\",\")\n",
    "                            val_idx = 0\n",
    "                            for val in attr_vals:\n",
    "                                val = val.strip()\n",
    "                                enum_to_str[val_idx] = val\n",
    "                                str_to_enum[val] = val_idx\n",
    "                                val_idx += 1\n",
    "\n",
    "                        self.enum_to_str.append(enum_to_str)\n",
    "                        self.str_to_enum.append(str_to_enum)\n",
    "\n",
    "                    elif line.startswith(\"@DATA\"):\n",
    "                        reading_data = True\n",
    "\n",
    "                else:\n",
    "                    # reading data\n",
    "                    row = []\n",
    "                    val_idx = 0\n",
    "                    # print(\"{}\".format(line))\n",
    "                    vals = line.split(\",\")\n",
    "                    for val in vals:\n",
    "                        val = val.strip()\n",
    "                        if not val:\n",
    "                            raise Exception(\"Missing data element in row with data '{}'\".format(line))\n",
    "                        else:\n",
    "                            row += [float(self.MISSING if val == \"?\" else self.str_to_enum[val_idx].get(val, val))]\n",
    "\n",
    "                        val_idx += 1\n",
    "\n",
    "                    rows += [row]\n",
    "\n",
    "        f.close()\n",
    "        self.data=np.array(rows)\n",
    "        self.set_labels()\n",
    "\n",
    "\n",
    "    @property\n",
    "    def num_rows(self):\n",
    "        \"\"\"Get the number of rows in the matrix\"\"\"\n",
    "        return len(self.data)\n",
    "\n",
    "    @property\n",
    "    def num_cols(self):\n",
    "        \"\"\"Get the number of columns (or attributes) in the matrix\"\"\"\n",
    "        return len(self.attr_names)\n",
    "\n",
    "    \n",
    "    def attr_name(self, col):\n",
    "        \"\"\"Get the name of the specified attribute\"\"\"\n",
    "        return self.attr_names[col]\n",
    "\n",
    "    def attr_value(self, attr, val):\n",
    "        \"\"\"\n",
    "        Get the name of the specified value (attr is a column index)\n",
    "        :param attr: index of the column\n",
    "        :param val: index of the value in the column attribute list\n",
    "        :return:\n",
    "        \"\"\"\n",
    "        return self.enum_to_str[attr][val]\n",
    "\n",
    "    def value_count(self, col):\n",
    "        \"\"\"\n",
    "        Get the number of values associated with the specified attribute (or columnn)\n",
    "        0=continuous, 2=binary, 3=trinary, etc.\n",
    "        \"\"\"\n",
    "        return len(self.enum_to_str[col]) if len(self.enum_to_str) > 0 else 0\n",
    "\n",
    "    def shuffle(self):\n",
    "        \"\"\"Shuffle the row order. If a buddy Matrix is provided, it will be shuffled in the same order.\"\"\"\n",
    "        idx = np.random.permutation(self.num_rows)\n",
    "        self.data = self.data[idx]\n",
    "        self.labels = self.labels[idx]\n",
    "\n",
    "     \n",
    "    def mean(self):\n",
    "        return np.mean(self.data, axis=0)\n",
    "\n",
    "    def column_mean(self, col):\n",
    "        \"\"\"Get the mean of the specified column\"\"\"\n",
    "        a = np.ma.masked_equal(self.data[:,col], self.MISSING).compressed()\n",
    "        return np.mean(a)\n",
    "\n",
    "    def column_min(self, col):\n",
    "        \"\"\"Get the min value in the specified column\"\"\"\n",
    "        a = np.ma.masked_equal(self.data[:,col], self.MISSING).compressed()\n",
    "        return np.min(a)\n",
    "\n",
    "    def column_max(self, col):\n",
    "        \"\"\"Get the max value in the specified column\"\"\"\n",
    "        a = np.ma.masked_equal(self.data[:,col], self.MISSING).compressed()\n",
    "        return np.max(a)\n",
    "\n",
    "    def most_common_value(self, col):\n",
    "        \"\"\"Get the most common value in the specified column\"\"\"\n",
    "        a = np.ma.masked_equal(self.data[:,col], self.MISSING).compressed()\n",
    "        scores = np.unique(np.ravel(a))       # get ALL unique values\n",
    "        testshape = list(a.shape)\n",
    "        testshape[axis] = 1\n",
    "        oldmostfreq = np.zeros(testshape)\n",
    "        oldcounts = np.zeros(testshape)\n",
    "\n",
    "        for score in scores:\n",
    "            template = (a == score)\n",
    "            counts = np.expand_dims(np.sum(template, axis),axis)\n",
    "            mostfrequent = np.where(counts > oldcounts, score, oldmostfreq)\n",
    "            oldcounts = np.maximum(counts, oldcounts)\n",
    "            oldmostfreq = mostfrequent\n",
    "        \n",
    "        return mostfrequent\n",
    "\n",
    "    def normalize(self):\n",
    "        \"\"\"Normalize each column of continuous values\"\"\"\n",
    "        for i in range(self.num_cols):\n",
    "            if self.value_count(i) == 0:     # is continuous\n",
    "                min_val = self.column_min(i)\n",
    "                max_val = self.column_max(i)\n",
    "                for j in range(self.num_rows):\n",
    "                    v = self.data[j, i]\n",
    "                    if v != self.MISSING:\n",
    "                        self.data[j, i] = (v - min_val)/(max_val - min_val)\n",
    "                        \n",
    "    def __str__(self):\n",
    "        outString = \"\"\n",
    "        print(\"@RELATION {}\".format(self.dataset_name))\n",
    "        for i in range(len(self.attr_names)):\n",
    "            print(\"@ATTRIBUTE {}\".format(self.attr_names[i]), end=\"\")\n",
    "            if self.value_count(i) == 0:\n",
    "                print(\" CONTINUOUS\")\n",
    "            else:\n",
    "                print(\" {{{}}}\".format(\", \".join(self.enum_to_str[i].values())))\n",
    "\n",
    "        print(\"@DATA\")\n",
    "        print(self.data)\n",
    "\n",
    "    def __str__(self):\n",
    "        outString = \"\"\n",
    "        outString += \"@RELATION {}\".format(self.dataset_name)\n",
    "        for i in range(len(self.attr_names)):\n",
    "            outString += \"@ATTRIBUTE {}\\n\".format(self.attr_names[i])\n",
    "            if self.value_count(i) == 0:\n",
    "                outString += \" CONTINUOUS\\n\"\n",
    "            else:\n",
    "                outString += \" {{{}}}\\n\".format(\", \".join(self.enum_to_str[i].values()))\n",
    "\n",
    "        outString += \"@DATA\\n\"\n",
    "        outString += str(self.data)\n",
    "        return outString\n",
    "        \n"
   ]
  },
  {
   "cell_type": "code",
   "execution_count": null,
   "metadata": {
    "collapsed": true
   },
   "outputs": [],
   "source": [
    "def print_decision_boundry(X, Y, model, h=.01, name=\"s.png\"):\n",
    "    plt.figure(figsize=(8,8))\n",
    "    x_min, x_max = X[:, 0].min() - .5, X[:, 0].max() + .5\n",
    "    y_min, y_max = X[:, 1].min() - .5, X[:, 1].max() + .5\n",
    "    xx, yy = np.meshgrid(np.arange(x_min, x_max, h), np.arange(y_min, y_max, h))\n",
    "    Z = model.predict(np.c_[xx.ravel(), yy.ravel()])\n",
    "\n",
    "    Z = Z.reshape(xx.shape)\n",
    "    plt.figure(1, figsize=(4, 3))\n",
    "    plt.pcolormesh(xx, yy, Z, cmap=plt.cm.Pastel2)\n",
    "\n",
    "    # Plot also the training points\n",
    "    plt.scatter(X[:, 0], X[:, 1], c=Y, edgecolors='k', cmap=plt.cm.Accent,s=50)\n",
    "\n",
    "    plt.title(\"Non-Seperable Data\")\n",
    "    plt.xlim(xx.min(), xx.max())\n",
    "    plt.ylim(yy.min(), yy.max())\n",
    "    plt.show()"
   ]
  },
  {
   "cell_type": "code",
   "execution_count": 278,
   "metadata": {
    "collapsed": true
   },
   "outputs": [],
   "source": [
    "class Perceptron(BaseLearner):\n",
    "    \"\"\" My implementation of the perceptron algorithm.\"\"\"\n",
    "    \n",
    "    def train(self, x_train, y_train, lr=.1, epochs=100, tol=.99, verbose=True):\n",
    "        # Add Bias\n",
    "        x_train = np.hstack((np.ones((x_train.shape[0],1)), x_train))\n",
    "        n, d = x_train.shape\n",
    "        \n",
    "        # Initialize Weights\n",
    "        self.w = np.random.randn(d) * .1\n",
    "        acc_list = []\n",
    "        j, acc, acc_cnt = 0, 0, 0\n",
    "        last_acc = 0\n",
    "        misclass = []\n",
    "        \n",
    "        while j < epochs and acc_cnt < 5:\n",
    "            #Shuffle the data\n",
    "            idx = np.random.permutation(n)\n",
    "            x_train = x_train[idx]\n",
    "            y_train = y_train[idx]\n",
    "            for i in range(n):\n",
    "                predicted = np.dot(self.w, x_train[i])\n",
    "                predicted = 0 if predicted < 0 else 1\n",
    "                self.w = self.w + (lr * (y_train[i] - predicted) * x_train[i])\n",
    "                \n",
    "            # Calc Loss\n",
    "            y_hat = np.dot(x_train, self.w)\n",
    "            y_hat[y_hat > 0] = 1\n",
    "            y_hat[y_hat <= 0] = 0\n",
    "            acc = accuracy_score(y_train, y_hat)\n",
    "            \n",
    "            # Stopping criteria\n",
    "            if acc <= last_acc:\n",
    "                acc_cnt += 1\n",
    "            else:\n",
    "                last_acc = acc\n",
    "                acc_cnt = 0\n",
    "                \n",
    "            # Store Metrics\n",
    "            acc_list.append(acc)\n",
    "            con_mat = confusion_matrix(y_train, self.predict(x_train[:,1:]))\n",
    "            misclass.append(con_mat[0,1]+con_mat[1,0])\n",
    "\n",
    "            if verbose:\n",
    "                print(\"[{}] Acc: {}\".format(j, acc))   \n",
    "            j += 1\n",
    "            \n",
    "        self.acc_list = acc_list\n",
    "        self.misclass = misclass\n",
    "        return\n",
    "            \n",
    "    \n",
    "    def predict(self, x_test, binary=True):\n",
    "        x_test = np.hstack((np.ones((x_test.shape[0], 1)), x_test))\n",
    "        probs = np.dot(x_test, self.w)\n",
    "        if binary:\n",
    "            probs[probs > 0] = 1\n",
    "            probs[probs <= 0] = 0\n",
    "        return probs"
   ]
  },
  {
   "cell_type": "markdown",
   "metadata": {},
   "source": [
    "# Problem 3"
   ]
  },
  {
   "cell_type": "code",
   "execution_count": 127,
   "metadata": {
    "collapsed": false,
    "scrolled": true
   },
   "outputs": [],
   "source": [
    "data = DataManager(arff='./datasets/seperable.arff')\n",
    "x_train, x_test, y_train, y_test = data.test_train_split()"
   ]
  },
  {
   "cell_type": "code",
   "execution_count": 135,
   "metadata": {
    "collapsed": false
   },
   "outputs": [
    {
     "data": {
      "image/png": "[encoded data removed]",
      "text/plain": [
       "<matplotlib.figure.Figure at 0x11b1e1b50>"
      ]
     },
     "metadata": {},
     "output_type": "display_data"
    }
   ],
   "source": [
    "for l in [.001, .01, .1, 1, 10, 100]:  \n",
    "    model = Perceptron()\n",
    "    acc_list, _ = model.train(data.data, data.labels, lr=l, verbose=False)\n",
    "    y_hat = model.predict(x_test)\n",
    "    plt.plot(acc_list, label='LR: %.3f'%l)\n",
    "plt.legend(loc='bottom right')\n",
    "plt.savefig('./images/seperable1.png')\n",
    "plt.show()"
   ]
  },
  {
   "cell_type": "code",
   "execution_count": 138,
   "metadata": {
    "collapsed": true
   },
   "outputs": [],
   "source": [
    "data = DataManager(arff='./datasets/nonseperable.arff')\n",
    "x_train, x_test, y_train, y_test = data.test_train_split()"
   ]
  },
  {
   "cell_type": "code",
   "execution_count": 139,
   "metadata": {
    "collapsed": false
   },
   "outputs": [
    {
     "name": "stdout",
     "output_type": "stream",
     "text": [
      "[0] Acc: 0.5\n",
      "[1] Acc: 0.5\n",
      "[2] Acc: 0.5\n",
      "[3] Acc: 0.5\n",
      "[4] Acc: 0.5\n",
      "[5] Acc: 0.5\n",
      "[0] Acc: 0.625\n",
      "[1] Acc: 0.625\n",
      "[2] Acc: 0.625\n",
      "[3] Acc: 0.625\n",
      "[4] Acc: 0.5\n",
      "[5] Acc: 0.5\n",
      "[0] Acc: 0.625\n",
      "[1] Acc: 0.5\n",
      "[2] Acc: 0.5\n",
      "[3] Acc: 0.625\n",
      "[4] Acc: 0.625\n",
      "[5] Acc: 0.75\n",
      "[6] Acc: 0.625\n",
      "[7] Acc: 0.625\n",
      "[8] Acc: 0.625\n",
      "[9] Acc: 0.5\n",
      "[10] Acc: 0.875\n",
      "[11] Acc: 0.625\n",
      "[12] Acc: 0.625\n",
      "[13] Acc: 0.625\n",
      "[14] Acc: 0.625\n",
      "[15] Acc: 0.75\n",
      "[0] Acc: 0.75\n",
      "[1] Acc: 0.5\n",
      "[2] Acc: 0.625\n",
      "[3] Acc: 0.75\n",
      "[4] Acc: 0.5\n",
      "[5] Acc: 0.625\n",
      "[0] Acc: 0.375\n",
      "[1] Acc: 0.5\n",
      "[2] Acc: 0.5\n",
      "[3] Acc: 0.625\n",
      "[4] Acc: 0.625\n",
      "[5] Acc: 0.5\n",
      "[6] Acc: 0.625\n",
      "[7] Acc: 0.5\n",
      "[8] Acc: 0.625\n",
      "[0] Acc: 0.5\n",
      "[1] Acc: 0.625\n",
      "[2] Acc: 0.5\n",
      "[3] Acc: 0.625\n",
      "[4] Acc: 0.5\n",
      "[5] Acc: 0.625\n",
      "[6] Acc: 0.625\n"
     ]
    },
    {
     "data": {
      "image/png": "[encoded data removed]",
      "text/plain": [
       "<matplotlib.figure.Figure at 0x119a4e590>"
      ]
     },
     "metadata": {},
     "output_type": "display_data"
    }
   ],
   "source": [
    "for l in [.001, .01, .1, 1, 10, 100]:  \n",
    "    model = Perceptron()\n",
    "    acc_list, _ = model.train(data.data, data.labels, lr=l)\n",
    "    y_hat = model.predict(x_test)\n",
    "    plt.plot(acc_list, label='LR: %.3f'%l)\n",
    "plt.legend(loc='lower right')\n",
    "plt.savefig('./images/nonseparable1.png')\n",
    "plt.show()"
   ]
  },
  {
   "cell_type": "markdown",
   "metadata": {},
   "source": [
    "# Problem 4"
   ]
  },
  {
   "cell_type": "code",
   "execution_count": null,
   "metadata": {
    "collapsed": true
   },
   "outputs": [],
   "source": [
    "data = DataManager(arff='./datasets/seperable.arff')\n",
    "x_train, x_test, y_train, y_test = data.test_train_split()\n",
    "\n",
    "model = Perceptron()\n",
    "model.train(data.data, data.labels)\n",
    "y_hat = model.predict(x_test)"
   ]
  },
  {
   "cell_type": "code",
   "execution_count": null,
   "metadata": {
    "collapsed": true
   },
   "outputs": [],
   "source": [
    "print_decision_boundry(data.data, data.labels, model, name=\"seperable.png\")"
   ]
  },
  {
   "cell_type": "code",
   "execution_count": null,
   "metadata": {
    "collapsed": true
   },
   "outputs": [],
   "source": [
    "data = DataManager(arff='./datasets/nonseperable.arff')\n",
    "x_train, x_test, y_train, y_test = data.test_train_split()\n",
    "\n",
    "model = Perceptron()\n",
    "model.train(data.data, data.labels)\n",
    "y_hat = model.predict(x_test)"
   ]
  },
  {
   "cell_type": "code",
   "execution_count": null,
   "metadata": {
    "collapsed": true
   },
   "outputs": [],
   "source": [
    "print_decision_boundry(data.data, data.labels, model, name=\"nonseperable.png\")"
   ]
  },
  {
   "cell_type": "markdown",
   "metadata": {},
   "source": [
    "# Problem 5"
   ]
  },
  {
   "cell_type": "code",
   "execution_count": 230,
   "metadata": {
    "collapsed": true
   },
   "outputs": [],
   "source": [
    "data = DataManager(arff='./datasets/voting.arff.txt')"
   ]
  },
  {
   "cell_type": "code",
   "execution_count": 193,
   "metadata": {
    "collapsed": false
   },
   "outputs": [
    {
     "name": "stdout",
     "output_type": "stream",
     "text": [
      "0: 0.959627329193\n"
     ]
    },
    {
     "data": {
      "image/png": "[encoded data removed]",
      "text/plain": [
       "<matplotlib.figure.Figure at 0x106b8fdd0>"
      ]
     },
     "metadata": {},
     "output_type": "display_data"
    },
    {
     "name": "stdout",
     "output_type": "stream",
     "text": [
      "1: 0.962732919255\n"
     ]
    },
    {
     "data": {
      "image/png": "[encoded data removed]",
      "text/plain": [
       "<matplotlib.figure.Figure at 0x11bc6b550>"
      ]
     },
     "metadata": {},
     "output_type": "display_data"
    },
    {
     "name": "stdout",
     "output_type": "stream",
     "text": [
      "2: 0.968944099379\n"
     ]
    },
    {
     "data": {
      "image/png": "[encoded data removed]",
      "text/plain": [
       "<matplotlib.figure.Figure at 0x11ac61250>"
      ]
     },
     "metadata": {},
     "output_type": "display_data"
    },
    {
     "name": "stdout",
     "output_type": "stream",
     "text": [
      "3: 0.984472049689\n"
     ]
    },
    {
     "data": {
      "image/png": "[encoded data removed]",
      "text/plain": [
       "<matplotlib.figure.Figure at 0x119848650>"
      ]
     },
     "metadata": {},
     "output_type": "display_data"
    },
    {
     "name": "stdout",
     "output_type": "stream",
     "text": [
      "4: 0.975155279503\n"
     ]
    },
    {
     "data": {
      "image/png": "[encoded data removed]",
      "text/plain": [
       "<matplotlib.figure.Figure at 0x106c13390>"
      ]
     },
     "metadata": {},
     "output_type": "display_data"
    }
   ],
   "source": [
    "avg_acc = 0\n",
    "for i in range(5):\n",
    "    x_train, x_test, y_train, y_test = data.test_train_split(ratio=.7)\n",
    "    model = Perceptron()\n",
    "    acc_list, _ = model.train(x_train, y_train, verbose=False)\n",
    "    print(\"{}: {}\".format(i, acc_list[-1]))\n",
    "    avg_acc += acc_list[-1]\n",
    "    y_hat = model.predict(x_test)\n",
    "    plt.plot(acc_list)\n",
    "    plt.show()\n",
    "    \n",
    "avg_acc = avg_acc / 5"
   ]
  },
  {
   "cell_type": "code",
   "execution_count": 194,
   "metadata": {
    "collapsed": false
   },
   "outputs": [
    {
     "data": {
      "text/plain": [
       "0.97018633540372679"
      ]
     },
     "execution_count": 194,
     "metadata": {},
     "output_type": "execute_result"
    }
   ],
   "source": [
    "avg_acc"
   ]
  },
  {
   "cell_type": "code",
   "execution_count": 186,
   "metadata": {
    "collapsed": false
   },
   "outputs": [
    {
     "data": {
      "text/plain": [
       "array([-0.91262638, -0.31828628, -0.10537241, -0.42692691,  1.5461316 ,\n",
       "        0.16539883, -0.21921843,  0.22787333,  0.43918169, -0.47963421,\n",
       "        0.19809973, -1.02183832,  0.12526469,  0.38730643,  0.1505826 ,\n",
       "       -0.4083384 ,  0.18562249])"
      ]
     },
     "execution_count": 186,
     "metadata": {},
     "output_type": "execute_result"
    }
   ],
   "source": [
    "model.w"
   ]
  },
  {
   "cell_type": "code",
   "execution_count": 189,
   "metadata": {
    "collapsed": false
   },
   "outputs": [
    {
     "data": {
      "text/plain": [
       "array([[79,  3],\n",
       "       [ 4, 53]])"
      ]
     },
     "execution_count": 189,
     "metadata": {},
     "output_type": "execute_result"
    }
   ],
   "source": [
    "confusion_matrix(y_test, model.predict(x_test))"
   ]
  },
  {
   "cell_type": "code",
   "execution_count": 233,
   "metadata": {
    "collapsed": false
   },
   "outputs": [],
   "source": [
    "model = Perceptron()\n",
    "model.train(x_train, y_train, verbose=False)"
   ]
  },
  {
   "cell_type": "code",
   "execution_count": 235,
   "metadata": {
    "collapsed": false
   },
   "outputs": [
    {
     "data": {
      "text/plain": [
       "[<matplotlib.lines.Line2D at 0x11b580850>]"
      ]
     },
     "execution_count": 235,
     "metadata": {},
     "output_type": "execute_result"
    },
    {
     "data": {
      "image/png": "[encoded data removed]",
      "text/plain": [
       "<matplotlib.figure.Figure at 0x11b1d9450>"
      ]
     },
     "metadata": {},
     "output_type": "display_data"
    }
   ],
   "source": [
    "plt.title(\"Misclassification per Epoch\")\n",
    "plt.xlabel(\"Epoch\")\n",
    "plt.ylabel(\"Num Wrong\")\n",
    "plt.plot(model.misclass)"
   ]
  },
  {
   "cell_type": "markdown",
   "metadata": {},
   "source": [
    "## Problem 6"
   ]
  },
  {
   "cell_type": "code",
   "execution_count": 355,
   "metadata": {
    "collapsed": true
   },
   "outputs": [],
   "source": [
    "class MultiPerceptron(BaseLearner):\n",
    "    \"\"\" My implementation of the perceptron algorithm.\"\"\"\n",
    "    \n",
    "    def __init__(self, num_classes=3):\n",
    "        self.num_classes = num_classes\n",
    "    \n",
    "    def train(self, x_train, y_train, lr=.1, epochs=100, verbose=True):\n",
    "        \n",
    "        # Initialize a perceptron for each class\n",
    "        self.p_list = []\n",
    "        for i in range(self.num_classes):\n",
    "            pTron = Perceptron()\n",
    "            class_y_train = np.copy(y_train)\n",
    "            class_y_train[y_train == i] = 1\n",
    "            class_y_train[y_train != i] = 0\n",
    "\n",
    "            pTron.train(x_train, class_y_train, lr=lr, epochs=epochs, verbose=False)\n",
    "            self.p_list.append(pTron)\n",
    "            \n",
    "            \n",
    "    \n",
    "    def predict(self, x_test):\n",
    "        predictions = [0] * self.num_classes\n",
    "        for i in range(self.num_classes):\n",
    "            predictions[i] = self.p_list[i].predict(x_test, binary=False)\n",
    "        \n",
    "        \n",
    "        return np.argmax(np.vstack(predictions), axis=0)"
   ]
  },
  {
   "cell_type": "code",
   "execution_count": 356,
   "metadata": {
    "collapsed": false
   },
   "outputs": [],
   "source": [
    "data = DataManager('./datasets/iris.arff')"
   ]
  },
  {
   "cell_type": "code",
   "execution_count": 366,
   "metadata": {
    "collapsed": false
   },
   "outputs": [],
   "source": [
    "model = MultiPerceptron(3)\n",
    "model.train(data.data, data.labels)\n",
    "y_hat = model.predict(data.data)"
   ]
  },
  {
   "cell_type": "code",
   "execution_count": 367,
   "metadata": {
    "collapsed": false
   },
   "outputs": [
    {
     "data": {
      "text/plain": [
       "0.89333333333333331"
      ]
     },
     "execution_count": 367,
     "metadata": {},
     "output_type": "execute_result"
    }
   ],
   "source": [
    "accuracy_score(data.labels, y_hat)"
   ]
  },
  {
   "cell_type": "code",
   "execution_count": 376,
   "metadata": {
    "collapsed": false
   },
   "outputs": [],
   "source": [
    "cm = confusion_matrix(data.labels, y_hat)"
   ]
  },
  {
   "cell_type": "code",
   "execution_count": 378,
   "metadata": {
    "collapsed": false
   },
   "outputs": [
    {
     "data": {
      "image/png": "[encoded data removed]",
      "text/plain": [
       "<matplotlib.figure.Figure at 0x11bd9cb90>"
      ]
     },
     "metadata": {},
     "output_type": "display_data"
    }
   ],
   "source": [
    "matplotlib.rcParams.update({'font.size': 22})\n",
    "\n",
    "sns.heatmap(cm, annot=True)\n",
    "plt.savefig(\"flower_confussion.png\")"
   ]
  },
  {
   "cell_type": "code",
   "execution_count": null,
   "metadata": {
    "collapsed": true
   },
   "outputs": [],
   "source": []
  }
 ],
 "metadata": {
  "kernelspec": {
   "display_name": "Python 2",
   "language": "python",
   "name": "python2"
  },
  "language_info": {
   "codemirror_mode": {
    "name": "ipython",
    "version": 2
   },
   "file_extension": ".py",
   "mimetype": "text/x-python",
   "name": "python",
   "nbconvert_exporter": "python",
   "pygments_lexer": "ipython2",
   "version": "2.7.13"
  }
 },
 "nbformat": 4,
 "nbformat_minor": 0
}
