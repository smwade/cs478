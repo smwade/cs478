{
 "cells": [
  {
   "cell_type": "code",
   "execution_count": 16,
   "metadata": {
    "collapsed": false
   },
   "outputs": [],
   "source": [
    "import numpy as np\n",
    "from sklearn.metrics import accuracy_score, r2_score, mean_squared_error\n",
    "from scipy.spatial import distance\n",
    "from collections import defaultdict\n",
    "from mltools.dataManager import DataManager\n",
    "import tqdm\n",
    "from sklearn.neighbors import KNeighborsClassifier, KNeighborsRegressor\n",
    "from matplotlib import pyplot as plt\n",
    "import seaborn as sns\n",
    "plt.style.use('ggplot')\n",
    "%matplotlib inline"
   ]
  },
  {
   "cell_type": "code",
   "execution_count": 17,
   "metadata": {
    "collapsed": false
   },
   "outputs": [
    {
     "name": "stdout",
     "output_type": "stream",
     "text": [
      "The autoreload extension is already loaded. To reload it, use:\n",
      "  %reload_ext autoreload\n"
     ]
    }
   ],
   "source": [
    "%load_ext autoreload\n",
    "%autoreload 2"
   ]
  },
  {
   "cell_type": "markdown",
   "metadata": {},
   "source": [
    "<img src='images/knn.png'>"
   ]
  },
  {
   "cell_type": "code",
   "execution_count": 3,
   "metadata": {
    "collapsed": false
   },
   "outputs": [],
   "source": [
    "class KNN():\n",
    "    \n",
    "    def __init__(self, k=3, weighted=True):\n",
    "        self.k = k\n",
    "        self.weighted = weighted\n",
    "    \n",
    "    \n",
    "    def _distance(self, point, neighbors):\n",
    "        try:\n",
    "            eps = 1e-10\n",
    "            return np.sqrt(np.sum((neighbors - point)**2, axis=1)) + eps\n",
    "        except:\n",
    "            return np.sqrt(np.sum((neighbors - point)**2)) + eps\n",
    "\n",
    " \n",
    "    def fit(self, x_train, y_train):\n",
    "        self.data = x_train\n",
    "        self.labels = y_train\n",
    "        \n",
    "        \n",
    "    def predict(self, x_test, weighted=True):\n",
    "        data, labels = self.data, self.labels\n",
    "        n = x_test.shape[0]\n",
    "        closest = np.zeros(n)\n",
    "        \n",
    "        for i in range(n):\n",
    "            dist = self._distance(x_test[i,:], data)\n",
    "            indices = np.argsort(dist, axis=0)\n",
    "            \n",
    "            neighbors = defaultdict(lambda:0)\n",
    "            for j in indices[:self.k]:\n",
    "                if self.weighted:\n",
    "                    weight = 1 / self._distance(x_test[i,:], data[j])**2\n",
    "                else:\n",
    "                    weight = 1\n",
    "                neighbors[labels[j]] += weight\n",
    "            \n",
    "            max_prob = 0\n",
    "            max_key = None\n",
    "            for key, val in neighbors.iteritems():\n",
    "                if val > max_prob:\n",
    "                    max_prob = val\n",
    "                    max_key = key\n",
    "                                \n",
    "            closest[i] = max_key\n",
    "                                \n",
    "        return closest        "
   ]
  },
  {
   "cell_type": "code",
   "execution_count": 4,
   "metadata": {
    "collapsed": true
   },
   "outputs": [],
   "source": [
    "class KNNRegression():\n",
    "    \n",
    "    def __init__(self, k=3, weighted=True):\n",
    "        self.k = k\n",
    "        self.weighted = weighted\n",
    "    \n",
    "    \n",
    "    def _distance(self, point, neighbors):\n",
    "        try:\n",
    "            eps = 1e-10\n",
    "            return np.sqrt(np.sum((neighbors - point)**2, axis=1)) + eps\n",
    "        except:\n",
    "            return np.sqrt(np.sum((neighbors - point)**2)) + eps\n",
    "\n",
    " \n",
    "    def fit(self, x_train, y_train):\n",
    "        self.data = x_train\n",
    "        self.labels = y_train\n",
    "        \n",
    "        \n",
    "    def predict(self, x_test, weighted=True):\n",
    "        data, labels = self.data, self.labels\n",
    "        n = x_test.shape[0]\n",
    "        prediction = np.zeros(n)\n",
    "        \n",
    "        for i in range(n):\n",
    "            dist = self._distance(x_test[i,:], data)\n",
    "            indices = np.argsort(dist, axis=0)\n",
    "            \n",
    "            denominator = 0\n",
    "            numerator = 0\n",
    "            neighbors = defaultdict(lambda:0)\n",
    "\n",
    "            for j in indices[:self.k]:\n",
    "                if self.weighted:\n",
    "                    weight = 1 / self._distance(x_test[i,:], data[j])**2\n",
    "                else:\n",
    "                    weight = 1\n",
    "                neighbors[labels[j]] += weight\n",
    "                \n",
    "                numerator += weight * labels[j]\n",
    "                denominator += weight\n",
    "                \n",
    "            prediction[i] = numerator / denominator\n",
    "                                   \n",
    "        return prediction        "
   ]
  },
  {
   "cell_type": "markdown",
   "metadata": {},
   "source": [
    "#### Load the Data"
   ]
  },
  {
   "cell_type": "code",
   "execution_count": 14,
   "metadata": {
    "collapsed": false
   },
   "outputs": [],
   "source": [
    "data = DataManager('datasets/mt_train.arff')\n",
    "data.normalize()\n",
    "x_train, x_test, y_train, y_test = data.test_train_split()"
   ]
  },
  {
   "cell_type": "markdown",
   "metadata": {},
   "source": [
    "#### Check Against Sklearn"
   ]
  },
  {
   "cell_type": "code",
   "execution_count": 15,
   "metadata": {
    "collapsed": false
   },
   "outputs": [
    {
     "data": {
      "text/plain": [
       "0.83043302306758393"
      ]
     },
     "execution_count": 15,
     "metadata": {},
     "output_type": "execute_result"
    }
   ],
   "source": [
    "knn = KNN(k=3, weighted=False)\n",
    "knn.fit(x_train, y_train)\n",
    "accuracy_score(knn.predict(x_test), y_test)"
   ]
  },
  {
   "cell_type": "code",
   "execution_count": 16,
   "metadata": {
    "collapsed": false
   },
   "outputs": [
    {
     "data": {
      "text/plain": [
       "0.83043302306758393"
      ]
     },
     "execution_count": 16,
     "metadata": {},
     "output_type": "execute_result"
    }
   ],
   "source": [
    "knn = KNeighborsClassifier(n_neighbors=3, weights='uniform')\n",
    "knn.fit(x_train, y_train)\n",
    "knn.score(x_test, y_test)"
   ]
  },
  {
   "cell_type": "code",
   "execution_count": null,
   "metadata": {
    "collapsed": true
   },
   "outputs": [],
   "source": [
    "  def _distance(self, a, b):\n",
    "        total = 0\n",
    "        for i in range(len(a)):\n",
    "            if self.variable_types[i] == True:\n",
    "                if a[i] != b[i]:\n",
    "                    total += 1\n",
    "            else:\n",
    "                total += np.sqrt((a[i] - b[i])**2)\n",
    "        return total"
   ]
  },
  {
   "cell_type": "code",
   "execution_count": 19,
   "metadata": {
    "collapsed": false
   },
   "outputs": [],
   "source": [
    "data = DataManager('datasets/housing-train.arff')\n",
    "data.min_max_normalize()\n",
    "x_train, x_test, y_train, y_test = data.test_train_split()"
   ]
  },
  {
   "cell_type": "code",
   "execution_count": 24,
   "metadata": {
    "collapsed": false
   },
   "outputs": [
    {
     "data": {
      "text/plain": [
       "array([ 22.8       ,  45.5       ,  29.5       ,  21.8       ,\n",
       "        14.43333333,  18.1       ,  19.86666667,  20.86666667,\n",
       "        23.56666667,  22.63333333,  15.93333333,  17.3       ,\n",
       "        21.2       ,  11.86666667,  22.96666667,  24.53333333,\n",
       "        14.26666667,  17.93333333,  22.3       ,  14.2       ,\n",
       "        29.53333333,  34.9       ,  23.66666667,  20.96666667,\n",
       "        16.26666667,  28.73333333,  33.03333333,  33.03333333,\n",
       "        30.9       ,  24.23333333,  12.66666667,  24.23333333,\n",
       "        31.5       ,  22.66666667,  31.73333333,  14.43333333,\n",
       "        25.33333333,  26.7       ,  23.9       ,  36.6       ,\n",
       "        17.56666667,  37.3       ,  10.4       ,  27.1       ,\n",
       "        17.56666667,   9.3       ,  24.93333333,  15.1       ,\n",
       "        11.06666667,  26.26666667,  17.43333333,  33.03333333,\n",
       "        17.56666667,  25.26666667,  25.36666667,   9.23333333,\n",
       "        20.16666667,  29.83333333,  36.86666667,  41.43333333,\n",
       "        20.83333333,  25.93333333,  24.6       ,  13.36666667,\n",
       "        27.83333333,  23.3       ,  22.86666667,  26.        ,\n",
       "        19.33333333,  23.6       ,  22.73333333,  14.26666667,\n",
       "        18.16666667,  18.76666667,  18.33333333,  25.86666667,\n",
       "        22.43333333,  18.23333333,  19.36666667,  21.        ,\n",
       "        15.93333333,  11.7       ,  16.1       ,  18.53333333,\n",
       "        25.9       ,  24.93333333,  28.76666667,  18.83333333,\n",
       "        22.43333333,  36.86666667,  13.1       ])"
      ]
     },
     "execution_count": 24,
     "metadata": {},
     "output_type": "execute_result"
    }
   ],
   "source": [
    "knn = KNNRegression(k=3, weighted=False)\n",
    "knn.fit(x_train, y_train)\n",
    "knn.predict(x_test)"
   ]
  },
  {
   "cell_type": "code",
   "execution_count": 25,
   "metadata": {
    "collapsed": false
   },
   "outputs": [
    {
     "data": {
      "text/plain": [
       "array([ 22.8       ,  45.5       ,  29.5       ,  21.8       ,\n",
       "        14.43333333,  18.1       ,  19.86666667,  20.86666667,\n",
       "        23.56666667,  22.63333333,  15.93333333,  17.3       ,\n",
       "        21.2       ,  11.86666667,  22.96666667,  24.53333333,\n",
       "        14.26666667,  17.93333333,  22.3       ,  14.2       ,\n",
       "        29.53333333,  34.9       ,  23.66666667,  20.96666667,\n",
       "        16.26666667,  28.73333333,  33.03333333,  33.03333333,\n",
       "        30.9       ,  24.23333333,  12.66666667,  24.23333333,\n",
       "        31.5       ,  22.66666667,  31.73333333,  14.43333333,\n",
       "        25.33333333,  26.7       ,  23.9       ,  36.6       ,\n",
       "        17.56666667,  37.3       ,  10.4       ,  27.1       ,\n",
       "        17.56666667,   9.3       ,  24.93333333,  15.1       ,\n",
       "        11.06666667,  26.26666667,  17.43333333,  33.03333333,\n",
       "        17.56666667,  25.26666667,  25.36666667,   9.23333333,\n",
       "        20.16666667,  29.83333333,  36.86666667,  41.43333333,\n",
       "        20.83333333,  25.93333333,  24.6       ,  13.36666667,\n",
       "        27.83333333,  23.3       ,  22.86666667,  26.        ,\n",
       "        19.33333333,  23.6       ,  22.73333333,  14.26666667,\n",
       "        18.16666667,  18.76666667,  18.33333333,  25.86666667,\n",
       "        22.43333333,  18.23333333,  19.36666667,  21.        ,\n",
       "        15.93333333,  11.7       ,  16.1       ,  18.53333333,\n",
       "        25.9       ,  24.93333333,  28.76666667,  18.83333333,\n",
       "        22.43333333,  36.86666667,  13.1       ])"
      ]
     },
     "execution_count": 25,
     "metadata": {},
     "output_type": "execute_result"
    }
   ],
   "source": [
    "knn = KNeighborsRegressor(=3, weights='uniform')\n",
    "knn.fit(x_train, y_train)\n",
    "knn.predict(x_test)"
   ]
  },
  {
   "cell_type": "markdown",
   "metadata": {},
   "source": [
    "## Problem 2"
   ]
  },
  {
   "cell_type": "markdown",
   "metadata": {},
   "source": [
    "### No Normalization"
   ]
  },
  {
   "cell_type": "code",
   "execution_count": 205,
   "metadata": {
    "collapsed": true
   },
   "outputs": [],
   "source": [
    "train = DataManager('datasets/mt_train.arff')\n",
    "x_train, y_train = train.data, train.labels\n",
    "test = DataManager('datasets/mt_test.arff')\n",
    "x_test, y_test = test.data, test.labels"
   ]
  },
  {
   "cell_type": "code",
   "execution_count": 206,
   "metadata": {
    "collapsed": false
   },
   "outputs": [
    {
     "data": {
      "text/plain": [
       "0.80828082808280832"
      ]
     },
     "execution_count": 206,
     "metadata": {},
     "output_type": "execute_result"
    }
   ],
   "source": [
    "knn = KNN(k=3, weighted=False)\n",
    "knn.fit(x_train, y_train)\n",
    "accuracy_score(knn.predict(x_test), y_test)"
   ]
  },
  {
   "cell_type": "markdown",
   "metadata": {},
   "source": [
    "### With normalization"
   ]
  },
  {
   "cell_type": "code",
   "execution_count": 203,
   "metadata": {
    "collapsed": true
   },
   "outputs": [],
   "source": [
    "train = DataManager('datasets/mt_train.arff')\n",
    "train.min_max_normalize()\n",
    "x_train, y_train = train.data, train.labels\n",
    "test = DataManager('datasets/mt_test.arff')\n",
    "test.min_max_normalize()\n",
    "x_test, y_test = test.data, test.labels"
   ]
  },
  {
   "cell_type": "code",
   "execution_count": 204,
   "metadata": {
    "collapsed": false
   },
   "outputs": [
    {
     "data": {
      "text/plain": [
       "0.81578157815781582"
      ]
     },
     "execution_count": 204,
     "metadata": {},
     "output_type": "execute_result"
    }
   ],
   "source": [
    "knn = KNN(k=3, weighted=False)\n",
    "knn.fit(x_train, y_train)\n",
    "accuracy_score(knn.predict(x_test), y_test)"
   ]
  },
  {
   "cell_type": "markdown",
   "metadata": {},
   "source": [
    "### Other normalization"
   ]
  },
  {
   "cell_type": "code",
   "execution_count": 258,
   "metadata": {
    "collapsed": true
   },
   "outputs": [],
   "source": [
    "train = DataManager('datasets/mt_train.arff')\n",
    "train.normalize()\n",
    "x_train, y_train = train.data, train.labels\n",
    "test = DataManager('datasets/mt_test.arff')\n",
    "test.normalize()\n",
    "x_test, y_test = test.data, test.labels"
   ]
  },
  {
   "cell_type": "code",
   "execution_count": 250,
   "metadata": {
    "collapsed": false
   },
   "outputs": [
    {
     "data": {
      "text/plain": [
       "0.83648364836483646"
      ]
     },
     "execution_count": 250,
     "metadata": {},
     "output_type": "execute_result"
    }
   ],
   "source": [
    "knn = KNN(k=3, weighted=False)\n",
    "knn.fit(x_train, y_train)\n",
    "accuracy_score(knn.predict(x_test), y_test)"
   ]
  },
  {
   "cell_type": "code",
   "execution_count": 251,
   "metadata": {
    "collapsed": true
   },
   "outputs": [],
   "source": [
    "knn_acc = []\n",
    "for k in range(1,16,2):\n",
    "    knn = KNN(k=k, weighted=True)\n",
    "    knn.fit(x_train, y_train)\n",
    "    knn_acc.append(accuracy_score(knn.predict(x_test), y_test))"
   ]
  },
  {
   "cell_type": "code",
   "execution_count": 252,
   "metadata": {
    "collapsed": false
   },
   "outputs": [
    {
     "data": {
      "image/png": "[encoded data removed]",
      "text/plain": [
       "<matplotlib.figure.Figure at 0x114b0e050>"
      ]
     },
     "metadata": {},
     "output_type": "display_data"
    }
   ],
   "source": [
    "plt.plot(range(1,16,2), knn_acc)\n",
    "plt.xlabel('k')\n",
    "plt.ylabel('Acc %')\n",
    "plt.title('Magic Telecope, K vs Acc')\n",
    "plt.xlim(1,15)\n",
    "plt.savefig('mt.svg', format='svg', dpi=1200)"
   ]
  },
  {
   "cell_type": "markdown",
   "metadata": {},
   "source": [
    "## Problem 3"
   ]
  },
  {
   "cell_type": "code",
   "execution_count": 22,
   "metadata": {
    "collapsed": true
   },
   "outputs": [],
   "source": [
    "train = DataManager('datasets/housing-train.arff')\n",
    "train.normalize()\n",
    "x_train, y_train = train.data, train.labels\n",
    "test = DataManager('datasets/housing-test.arff')\n",
    "test.normalize()\n",
    "x_test, y_test = test.data, test.labels"
   ]
  },
  {
   "cell_type": "code",
   "execution_count": 29,
   "metadata": {
    "collapsed": false
   },
   "outputs": [],
   "source": [
    "knn_acc = []\n",
    "for k in range(1,16,2):\n",
    "    knn = KNNRegression(k=k, weighted=True)\n",
    "    knn.fit(x_train, y_train)\n",
    "    knn_acc.append(mean_squared_error(knn.predict(x_test), y_test))"
   ]
  },
  {
   "cell_type": "code",
   "execution_count": 29,
   "metadata": {
    "collapsed": false
   },
   "outputs": [],
   "source": [
    "knn_acc = []\n",
    "for k in range(1,16,2):\n",
    "    knn = KNeighborsRegressor(n_neighbors=k)\n",
    "    knn.fit(x_train, y_train)\n",
    "    knn_acc.append(mean_squared_error(knn.predict(x_test), y_test))"
   ]
  },
  {
   "cell_type": "code",
   "execution_count": 30,
   "metadata": {
    "collapsed": false
   },
   "outputs": [
    {
     "data": {
      "image/png": "[encoded data removed]",
      "text/plain": [
       "<matplotlib.figure.Figure at 0x114c5f4d0>"
      ]
     },
     "metadata": {},
     "output_type": "display_data"
    }
   ],
   "source": [
    "plt.plot(range(1,16,2), knn_acc)\n",
    "plt.xlabel('k')\n",
    "plt.ylabel('Mean Squared Error')\n",
    "plt.title('Housing Price Prediction')\n",
    "plt.xlim(1,15)\n",
    "plt.savefig('housing.svg', format='svg', dpi=1200)"
   ]
  },
  {
   "cell_type": "markdown",
   "metadata": {},
   "source": [
    "## Problem 5"
   ]
  },
  {
   "cell_type": "code",
   "execution_count": 40,
   "metadata": {
    "collapsed": true
   },
   "outputs": [],
   "source": [
    "from sklearn.preprocessing import normalize"
   ]
  },
  {
   "cell_type": "code",
   "execution_count": 41,
   "metadata": {
    "collapsed": false
   },
   "outputs": [
    {
     "ename": "ValueError",
     "evalue": "Input contains NaN, infinity or a value too large for dtype('float64').",
     "output_type": "error",
     "traceback": [
      "\u001b[0;31m---------------------------------------------------------------------------\u001b[0m",
      "\u001b[0;31mValueError\u001b[0m                                Traceback (most recent call last)",
      "\u001b[0;32m<ipython-input-41-ef9f354f3cfc>\u001b[0m in \u001b[0;36m<module>\u001b[0;34m()\u001b[0m\n\u001b[0;32m----> 1\u001b[0;31m \u001b[0mnormalize\u001b[0m\u001b[0;34m(\u001b[0m\u001b[0mdata\u001b[0m\u001b[0;34m.\u001b[0m\u001b[0mdata\u001b[0m\u001b[0;34m)\u001b[0m\u001b[0;34m\u001b[0m\u001b[0m\n\u001b[0m",
      "\u001b[0;32m//anaconda/lib/python2.7/site-packages/sklearn/preprocessing/data.pyc\u001b[0m in \u001b[0;36mnormalize\u001b[0;34m(X, norm, axis, copy, return_norm)\u001b[0m\n\u001b[1;32m   1342\u001b[0m \u001b[0;34m\u001b[0m\u001b[0m\n\u001b[1;32m   1343\u001b[0m     X = check_array(X, sparse_format, copy=copy, warn_on_dtype=True,\n\u001b[0;32m-> 1344\u001b[0;31m                     estimator='the normalize function', dtype=FLOAT_DTYPES)\n\u001b[0m\u001b[1;32m   1345\u001b[0m     \u001b[0;32mif\u001b[0m \u001b[0maxis\u001b[0m \u001b[0;34m==\u001b[0m \u001b[0;36m0\u001b[0m\u001b[0;34m:\u001b[0m\u001b[0;34m\u001b[0m\u001b[0m\n\u001b[1;32m   1346\u001b[0m         \u001b[0mX\u001b[0m \u001b[0;34m=\u001b[0m \u001b[0mX\u001b[0m\u001b[0;34m.\u001b[0m\u001b[0mT\u001b[0m\u001b[0;34m\u001b[0m\u001b[0m\n",
      "\u001b[0;32m//anaconda/lib/python2.7/site-packages/sklearn/utils/validation.pyc\u001b[0m in \u001b[0;36mcheck_array\u001b[0;34m(array, accept_sparse, dtype, order, copy, force_all_finite, ensure_2d, allow_nd, ensure_min_samples, ensure_min_features, warn_on_dtype, estimator)\u001b[0m\n\u001b[1;32m    405\u001b[0m                              % (array.ndim, estimator_name))\n\u001b[1;32m    406\u001b[0m         \u001b[0;32mif\u001b[0m \u001b[0mforce_all_finite\u001b[0m\u001b[0;34m:\u001b[0m\u001b[0;34m\u001b[0m\u001b[0m\n\u001b[0;32m--> 407\u001b[0;31m             \u001b[0m_assert_all_finite\u001b[0m\u001b[0;34m(\u001b[0m\u001b[0marray\u001b[0m\u001b[0;34m)\u001b[0m\u001b[0;34m\u001b[0m\u001b[0m\n\u001b[0m\u001b[1;32m    408\u001b[0m \u001b[0;34m\u001b[0m\u001b[0m\n\u001b[1;32m    409\u001b[0m     \u001b[0mshape_repr\u001b[0m \u001b[0;34m=\u001b[0m \u001b[0m_shape_repr\u001b[0m\u001b[0;34m(\u001b[0m\u001b[0marray\u001b[0m\u001b[0;34m.\u001b[0m\u001b[0mshape\u001b[0m\u001b[0;34m)\u001b[0m\u001b[0;34m\u001b[0m\u001b[0m\n",
      "\u001b[0;32m//anaconda/lib/python2.7/site-packages/sklearn/utils/validation.pyc\u001b[0m in \u001b[0;36m_assert_all_finite\u001b[0;34m(X)\u001b[0m\n\u001b[1;32m     56\u001b[0m             and not np.isfinite(X).all()):\n\u001b[1;32m     57\u001b[0m         raise ValueError(\"Input contains NaN, infinity\"\n\u001b[0;32m---> 58\u001b[0;31m                          \" or a value too large for %r.\" % X.dtype)\n\u001b[0m\u001b[1;32m     59\u001b[0m \u001b[0;34m\u001b[0m\u001b[0m\n\u001b[1;32m     60\u001b[0m \u001b[0;34m\u001b[0m\u001b[0m\n",
      "\u001b[0;31mValueError\u001b[0m: Input contains NaN, infinity or a value too large for dtype('float64')."
     ]
    }
   ],
   "source": [
    "normalize(data.data)"
   ]
  },
  {
   "cell_type": "code",
   "execution_count": 54,
   "metadata": {
    "collapsed": false
   },
   "outputs": [],
   "source": [
    "data = DataManager('datasets/credit-a.arff')\n",
    "#data.normalize()\n",
    "x_train, x_test, y_train, y_test = data.test_train_split()"
   ]
  },
  {
   "cell_type": "code",
   "execution_count": 55,
   "metadata": {
    "collapsed": false
   },
   "outputs": [
    {
     "name": "stdout",
     "output_type": "stream",
     "text": [
      "@RELATION credit-rating@ATTRIBUTE A1\n",
      " {b, a}\n",
      "@ATTRIBUTE A2\n",
      " CONTINUOUS\n",
      "@ATTRIBUTE A3\n",
      " CONTINUOUS\n",
      "@ATTRIBUTE A4\n",
      " {u, y, l, t}\n",
      "@ATTRIBUTE A5\n",
      " {g, p, gg}\n",
      "@ATTRIBUTE A6\n",
      " {c, d, cc, i, j, k, m, r, q, w, x, e, aa, ff}\n",
      "@ATTRIBUTE A7\n",
      " {v, h, bb, j, n, z, dd, ff, o}\n",
      "@ATTRIBUTE A8\n",
      " CONTINUOUS\n",
      "@ATTRIBUTE A9\n",
      " {t, f}\n",
      "@ATTRIBUTE A10\n",
      " {t, f}\n",
      "@ATTRIBUTE A11\n",
      " CONTINUOUS\n",
      "@ATTRIBUTE A12\n",
      " {t, f}\n",
      "@ATTRIBUTE A13\n",
      " {g, p, s}\n",
      "@ATTRIBUTE A14\n",
      " CONTINUOUS\n",
      "@ATTRIBUTE A15\n",
      " CONTINUOUS\n",
      "@ATTRIBUTE class\n",
      " {+, -}\n",
      "@DATA\n",
      "[[   0.      44.33     0.5   ...,    0.     320.       0.   ]\n",
      " [   1.      44.33     0.    ...,    0.       0.       0.   ]\n",
      " [   0.      34.92     2.5   ...,    0.     239.     200.   ]\n",
      " ..., \n",
      " [   0.      25.17     3.    ...,    0.       0.      22.   ]\n",
      " [   0.      31.       2.085 ...,    0.     300.       0.   ]\n",
      " [   0.      31.42    15.5   ...,    0.     120.       0.   ]]\n"
     ]
    }
   ],
   "source": [
    "print data"
   ]
  },
  {
   "cell_type": "code",
   "execution_count": 56,
   "metadata": {
    "collapsed": false
   },
   "outputs": [
    {
     "data": {
      "text/plain": [
       "[True,\n",
       " False,\n",
       " False,\n",
       " True,\n",
       " True,\n",
       " True,\n",
       " True,\n",
       " False,\n",
       " True,\n",
       " True,\n",
       " False,\n",
       " True,\n",
       " True,\n",
       " False,\n",
       " False,\n",
       " True]"
      ]
     },
     "execution_count": 56,
     "metadata": {},
     "output_type": "execute_result"
    }
   ],
   "source": [
    "data.is_nominal_variable()"
   ]
  },
  {
   "cell_type": "code",
   "execution_count": 57,
   "metadata": {
    "collapsed": true
   },
   "outputs": [],
   "source": [
    "df = pd.DataFrame(data.data)"
   ]
  },
  {
   "cell_type": "code",
   "execution_count": 58,
   "metadata": {
    "collapsed": false
   },
   "outputs": [],
   "source": [
    "for i, col in enumerate(data.is_nominal_variable()[:-1]):\n",
    "    if col:\n",
    "        df.iloc[:,i].fillna(2, inplace=True)\n",
    "    else:\n",
    "        #print df.iloc[:,i].mean()\n",
    "        df.iloc[:,i].fillna(0, inplace=True)"
   ]
  },
  {
   "cell_type": "code",
   "execution_count": 59,
   "metadata": {
    "collapsed": false
   },
   "outputs": [
    {
     "data": {
      "text/html": [
       "<div>\n",
       "<table border=\"1\" class=\"dataframe\">\n",
       "  <thead>\n",
       "    <tr style=\"text-align: right;\">\n",
       "      <th></th>\n",
       "      <th>0</th>\n",
       "      <th>1</th>\n",
       "      <th>2</th>\n",
       "      <th>3</th>\n",
       "      <th>4</th>\n",
       "      <th>5</th>\n",
       "      <th>6</th>\n",
       "      <th>7</th>\n",
       "      <th>8</th>\n",
       "      <th>9</th>\n",
       "      <th>10</th>\n",
       "      <th>11</th>\n",
       "      <th>12</th>\n",
       "      <th>13</th>\n",
       "      <th>14</th>\n",
       "    </tr>\n",
       "  </thead>\n",
       "  <tbody>\n",
       "    <tr>\n",
       "      <th>0</th>\n",
       "      <td>0.0</td>\n",
       "      <td>44.33</td>\n",
       "      <td>0.500</td>\n",
       "      <td>0.0</td>\n",
       "      <td>0.0</td>\n",
       "      <td>3.0</td>\n",
       "      <td>1.0</td>\n",
       "      <td>5.000</td>\n",
       "      <td>0.0</td>\n",
       "      <td>1.0</td>\n",
       "      <td>0.0</td>\n",
       "      <td>0.0</td>\n",
       "      <td>0.0</td>\n",
       "      <td>320.0</td>\n",
       "      <td>0.0</td>\n",
       "    </tr>\n",
       "    <tr>\n",
       "      <th>1</th>\n",
       "      <td>1.0</td>\n",
       "      <td>44.33</td>\n",
       "      <td>0.000</td>\n",
       "      <td>0.0</td>\n",
       "      <td>0.0</td>\n",
       "      <td>0.0</td>\n",
       "      <td>0.0</td>\n",
       "      <td>2.500</td>\n",
       "      <td>0.0</td>\n",
       "      <td>1.0</td>\n",
       "      <td>0.0</td>\n",
       "      <td>1.0</td>\n",
       "      <td>0.0</td>\n",
       "      <td>0.0</td>\n",
       "      <td>0.0</td>\n",
       "    </tr>\n",
       "    <tr>\n",
       "      <th>2</th>\n",
       "      <td>0.0</td>\n",
       "      <td>34.92</td>\n",
       "      <td>2.500</td>\n",
       "      <td>0.0</td>\n",
       "      <td>0.0</td>\n",
       "      <td>9.0</td>\n",
       "      <td>0.0</td>\n",
       "      <td>0.000</td>\n",
       "      <td>0.0</td>\n",
       "      <td>1.0</td>\n",
       "      <td>0.0</td>\n",
       "      <td>0.0</td>\n",
       "      <td>0.0</td>\n",
       "      <td>239.0</td>\n",
       "      <td>200.0</td>\n",
       "    </tr>\n",
       "    <tr>\n",
       "      <th>3</th>\n",
       "      <td>0.0</td>\n",
       "      <td>27.58</td>\n",
       "      <td>2.040</td>\n",
       "      <td>1.0</td>\n",
       "      <td>1.0</td>\n",
       "      <td>12.0</td>\n",
       "      <td>0.0</td>\n",
       "      <td>2.000</td>\n",
       "      <td>0.0</td>\n",
       "      <td>0.0</td>\n",
       "      <td>3.0</td>\n",
       "      <td>0.0</td>\n",
       "      <td>0.0</td>\n",
       "      <td>370.0</td>\n",
       "      <td>560.0</td>\n",
       "    </tr>\n",
       "    <tr>\n",
       "      <th>4</th>\n",
       "      <td>0.0</td>\n",
       "      <td>23.17</td>\n",
       "      <td>0.000</td>\n",
       "      <td>0.0</td>\n",
       "      <td>0.0</td>\n",
       "      <td>2.0</td>\n",
       "      <td>0.0</td>\n",
       "      <td>0.085</td>\n",
       "      <td>0.0</td>\n",
       "      <td>1.0</td>\n",
       "      <td>0.0</td>\n",
       "      <td>1.0</td>\n",
       "      <td>0.0</td>\n",
       "      <td>0.0</td>\n",
       "      <td>0.0</td>\n",
       "    </tr>\n",
       "    <tr>\n",
       "      <th>5</th>\n",
       "      <td>0.0</td>\n",
       "      <td>49.58</td>\n",
       "      <td>19.000</td>\n",
       "      <td>0.0</td>\n",
       "      <td>0.0</td>\n",
       "      <td>13.0</td>\n",
       "      <td>7.0</td>\n",
       "      <td>0.000</td>\n",
       "      <td>0.0</td>\n",
       "      <td>0.0</td>\n",
       "      <td>1.0</td>\n",
       "      <td>1.0</td>\n",
       "      <td>0.0</td>\n",
       "      <td>94.0</td>\n",
       "      <td>0.0</td>\n",
       "    </tr>\n",
       "    <tr>\n",
       "      <th>6</th>\n",
       "      <td>0.0</td>\n",
       "      <td>22.67</td>\n",
       "      <td>2.540</td>\n",
       "      <td>1.0</td>\n",
       "      <td>1.0</td>\n",
       "      <td>0.0</td>\n",
       "      <td>1.0</td>\n",
       "      <td>2.585</td>\n",
       "      <td>0.0</td>\n",
       "      <td>1.0</td>\n",
       "      <td>0.0</td>\n",
       "      <td>1.0</td>\n",
       "      <td>0.0</td>\n",
       "      <td>0.0</td>\n",
       "      <td>0.0</td>\n",
       "    </tr>\n",
       "    <tr>\n",
       "      <th>7</th>\n",
       "      <td>0.0</td>\n",
       "      <td>41.17</td>\n",
       "      <td>1.250</td>\n",
       "      <td>1.0</td>\n",
       "      <td>1.0</td>\n",
       "      <td>9.0</td>\n",
       "      <td>0.0</td>\n",
       "      <td>0.250</td>\n",
       "      <td>1.0</td>\n",
       "      <td>1.0</td>\n",
       "      <td>0.0</td>\n",
       "      <td>1.0</td>\n",
       "      <td>0.0</td>\n",
       "      <td>0.0</td>\n",
       "      <td>195.0</td>\n",
       "    </tr>\n",
       "    <tr>\n",
       "      <th>8</th>\n",
       "      <td>0.0</td>\n",
       "      <td>16.33</td>\n",
       "      <td>4.085</td>\n",
       "      <td>0.0</td>\n",
       "      <td>0.0</td>\n",
       "      <td>3.0</td>\n",
       "      <td>1.0</td>\n",
       "      <td>0.415</td>\n",
       "      <td>1.0</td>\n",
       "      <td>1.0</td>\n",
       "      <td>0.0</td>\n",
       "      <td>0.0</td>\n",
       "      <td>0.0</td>\n",
       "      <td>120.0</td>\n",
       "      <td>0.0</td>\n",
       "    </tr>\n",
       "    <tr>\n",
       "      <th>9</th>\n",
       "      <td>1.0</td>\n",
       "      <td>26.92</td>\n",
       "      <td>13.500</td>\n",
       "      <td>0.0</td>\n",
       "      <td>0.0</td>\n",
       "      <td>8.0</td>\n",
       "      <td>1.0</td>\n",
       "      <td>5.000</td>\n",
       "      <td>0.0</td>\n",
       "      <td>0.0</td>\n",
       "      <td>2.0</td>\n",
       "      <td>1.0</td>\n",
       "      <td>0.0</td>\n",
       "      <td>0.0</td>\n",
       "      <td>5000.0</td>\n",
       "    </tr>\n",
       "    <tr>\n",
       "      <th>10</th>\n",
       "      <td>0.0</td>\n",
       "      <td>48.58</td>\n",
       "      <td>0.205</td>\n",
       "      <td>1.0</td>\n",
       "      <td>1.0</td>\n",
       "      <td>5.0</td>\n",
       "      <td>0.0</td>\n",
       "      <td>0.250</td>\n",
       "      <td>0.0</td>\n",
       "      <td>0.0</td>\n",
       "      <td>11.0</td>\n",
       "      <td>1.0</td>\n",
       "      <td>0.0</td>\n",
       "      <td>380.0</td>\n",
       "      <td>2732.0</td>\n",
       "    </tr>\n",
       "    <tr>\n",
       "      <th>11</th>\n",
       "      <td>0.0</td>\n",
       "      <td>25.92</td>\n",
       "      <td>0.875</td>\n",
       "      <td>0.0</td>\n",
       "      <td>0.0</td>\n",
       "      <td>5.0</td>\n",
       "      <td>0.0</td>\n",
       "      <td>0.375</td>\n",
       "      <td>1.0</td>\n",
       "      <td>0.0</td>\n",
       "      <td>2.0</td>\n",
       "      <td>0.0</td>\n",
       "      <td>0.0</td>\n",
       "      <td>174.0</td>\n",
       "      <td>3.0</td>\n",
       "    </tr>\n",
       "    <tr>\n",
       "      <th>12</th>\n",
       "      <td>0.0</td>\n",
       "      <td>21.67</td>\n",
       "      <td>1.165</td>\n",
       "      <td>1.0</td>\n",
       "      <td>1.0</td>\n",
       "      <td>5.0</td>\n",
       "      <td>0.0</td>\n",
       "      <td>2.500</td>\n",
       "      <td>0.0</td>\n",
       "      <td>0.0</td>\n",
       "      <td>1.0</td>\n",
       "      <td>1.0</td>\n",
       "      <td>0.0</td>\n",
       "      <td>180.0</td>\n",
       "      <td>20.0</td>\n",
       "    </tr>\n",
       "    <tr>\n",
       "      <th>13</th>\n",
       "      <td>0.0</td>\n",
       "      <td>37.50</td>\n",
       "      <td>1.750</td>\n",
       "      <td>1.0</td>\n",
       "      <td>1.0</td>\n",
       "      <td>0.0</td>\n",
       "      <td>2.0</td>\n",
       "      <td>0.250</td>\n",
       "      <td>0.0</td>\n",
       "      <td>1.0</td>\n",
       "      <td>0.0</td>\n",
       "      <td>0.0</td>\n",
       "      <td>0.0</td>\n",
       "      <td>164.0</td>\n",
       "      <td>400.0</td>\n",
       "    </tr>\n",
       "    <tr>\n",
       "      <th>14</th>\n",
       "      <td>0.0</td>\n",
       "      <td>24.58</td>\n",
       "      <td>1.250</td>\n",
       "      <td>0.0</td>\n",
       "      <td>0.0</td>\n",
       "      <td>0.0</td>\n",
       "      <td>0.0</td>\n",
       "      <td>0.250</td>\n",
       "      <td>1.0</td>\n",
       "      <td>1.0</td>\n",
       "      <td>0.0</td>\n",
       "      <td>1.0</td>\n",
       "      <td>0.0</td>\n",
       "      <td>110.0</td>\n",
       "      <td>0.0</td>\n",
       "    </tr>\n",
       "    <tr>\n",
       "      <th>15</th>\n",
       "      <td>0.0</td>\n",
       "      <td>28.00</td>\n",
       "      <td>3.000</td>\n",
       "      <td>0.0</td>\n",
       "      <td>0.0</td>\n",
       "      <td>9.0</td>\n",
       "      <td>0.0</td>\n",
       "      <td>0.750</td>\n",
       "      <td>1.0</td>\n",
       "      <td>1.0</td>\n",
       "      <td>0.0</td>\n",
       "      <td>0.0</td>\n",
       "      <td>0.0</td>\n",
       "      <td>300.0</td>\n",
       "      <td>67.0</td>\n",
       "    </tr>\n",
       "    <tr>\n",
       "      <th>16</th>\n",
       "      <td>1.0</td>\n",
       "      <td>15.75</td>\n",
       "      <td>0.375</td>\n",
       "      <td>0.0</td>\n",
       "      <td>0.0</td>\n",
       "      <td>0.0</td>\n",
       "      <td>0.0</td>\n",
       "      <td>1.000</td>\n",
       "      <td>1.0</td>\n",
       "      <td>1.0</td>\n",
       "      <td>0.0</td>\n",
       "      <td>1.0</td>\n",
       "      <td>0.0</td>\n",
       "      <td>120.0</td>\n",
       "      <td>18.0</td>\n",
       "    </tr>\n",
       "    <tr>\n",
       "      <th>17</th>\n",
       "      <td>1.0</td>\n",
       "      <td>33.25</td>\n",
       "      <td>2.500</td>\n",
       "      <td>1.0</td>\n",
       "      <td>1.0</td>\n",
       "      <td>0.0</td>\n",
       "      <td>0.0</td>\n",
       "      <td>2.500</td>\n",
       "      <td>1.0</td>\n",
       "      <td>1.0</td>\n",
       "      <td>0.0</td>\n",
       "      <td>0.0</td>\n",
       "      <td>0.0</td>\n",
       "      <td>0.0</td>\n",
       "      <td>2.0</td>\n",
       "    </tr>\n",
       "    <tr>\n",
       "      <th>18</th>\n",
       "      <td>0.0</td>\n",
       "      <td>51.83</td>\n",
       "      <td>2.040</td>\n",
       "      <td>1.0</td>\n",
       "      <td>1.0</td>\n",
       "      <td>13.0</td>\n",
       "      <td>7.0</td>\n",
       "      <td>1.500</td>\n",
       "      <td>1.0</td>\n",
       "      <td>1.0</td>\n",
       "      <td>0.0</td>\n",
       "      <td>1.0</td>\n",
       "      <td>0.0</td>\n",
       "      <td>120.0</td>\n",
       "      <td>1.0</td>\n",
       "    </tr>\n",
       "    <tr>\n",
       "      <th>19</th>\n",
       "      <td>0.0</td>\n",
       "      <td>19.67</td>\n",
       "      <td>10.000</td>\n",
       "      <td>1.0</td>\n",
       "      <td>1.0</td>\n",
       "      <td>5.0</td>\n",
       "      <td>1.0</td>\n",
       "      <td>0.835</td>\n",
       "      <td>0.0</td>\n",
       "      <td>1.0</td>\n",
       "      <td>0.0</td>\n",
       "      <td>0.0</td>\n",
       "      <td>0.0</td>\n",
       "      <td>140.0</td>\n",
       "      <td>0.0</td>\n",
       "    </tr>\n",
       "    <tr>\n",
       "      <th>20</th>\n",
       "      <td>0.0</td>\n",
       "      <td>39.58</td>\n",
       "      <td>13.915</td>\n",
       "      <td>0.0</td>\n",
       "      <td>0.0</td>\n",
       "      <td>9.0</td>\n",
       "      <td>0.0</td>\n",
       "      <td>8.625</td>\n",
       "      <td>0.0</td>\n",
       "      <td>0.0</td>\n",
       "      <td>6.0</td>\n",
       "      <td>0.0</td>\n",
       "      <td>0.0</td>\n",
       "      <td>70.0</td>\n",
       "      <td>0.0</td>\n",
       "    </tr>\n",
       "    <tr>\n",
       "      <th>21</th>\n",
       "      <td>1.0</td>\n",
       "      <td>16.50</td>\n",
       "      <td>1.250</td>\n",
       "      <td>0.0</td>\n",
       "      <td>0.0</td>\n",
       "      <td>8.0</td>\n",
       "      <td>0.0</td>\n",
       "      <td>0.250</td>\n",
       "      <td>1.0</td>\n",
       "      <td>0.0</td>\n",
       "      <td>1.0</td>\n",
       "      <td>1.0</td>\n",
       "      <td>0.0</td>\n",
       "      <td>108.0</td>\n",
       "      <td>98.0</td>\n",
       "    </tr>\n",
       "    <tr>\n",
       "      <th>22</th>\n",
       "      <td>0.0</td>\n",
       "      <td>30.17</td>\n",
       "      <td>0.500</td>\n",
       "      <td>0.0</td>\n",
       "      <td>0.0</td>\n",
       "      <td>0.0</td>\n",
       "      <td>0.0</td>\n",
       "      <td>1.750</td>\n",
       "      <td>0.0</td>\n",
       "      <td>0.0</td>\n",
       "      <td>11.0</td>\n",
       "      <td>1.0</td>\n",
       "      <td>0.0</td>\n",
       "      <td>32.0</td>\n",
       "      <td>540.0</td>\n",
       "    </tr>\n",
       "    <tr>\n",
       "      <th>23</th>\n",
       "      <td>0.0</td>\n",
       "      <td>24.50</td>\n",
       "      <td>13.335</td>\n",
       "      <td>1.0</td>\n",
       "      <td>1.0</td>\n",
       "      <td>12.0</td>\n",
       "      <td>0.0</td>\n",
       "      <td>0.040</td>\n",
       "      <td>1.0</td>\n",
       "      <td>1.0</td>\n",
       "      <td>0.0</td>\n",
       "      <td>0.0</td>\n",
       "      <td>0.0</td>\n",
       "      <td>120.0</td>\n",
       "      <td>475.0</td>\n",
       "    </tr>\n",
       "    <tr>\n",
       "      <th>24</th>\n",
       "      <td>0.0</td>\n",
       "      <td>20.00</td>\n",
       "      <td>11.045</td>\n",
       "      <td>0.0</td>\n",
       "      <td>0.0</td>\n",
       "      <td>0.0</td>\n",
       "      <td>0.0</td>\n",
       "      <td>2.000</td>\n",
       "      <td>1.0</td>\n",
       "      <td>1.0</td>\n",
       "      <td>0.0</td>\n",
       "      <td>0.0</td>\n",
       "      <td>0.0</td>\n",
       "      <td>136.0</td>\n",
       "      <td>0.0</td>\n",
       "    </tr>\n",
       "    <tr>\n",
       "      <th>25</th>\n",
       "      <td>0.0</td>\n",
       "      <td>29.83</td>\n",
       "      <td>2.040</td>\n",
       "      <td>1.0</td>\n",
       "      <td>1.0</td>\n",
       "      <td>10.0</td>\n",
       "      <td>1.0</td>\n",
       "      <td>0.040</td>\n",
       "      <td>1.0</td>\n",
       "      <td>1.0</td>\n",
       "      <td>0.0</td>\n",
       "      <td>1.0</td>\n",
       "      <td>0.0</td>\n",
       "      <td>128.0</td>\n",
       "      <td>1.0</td>\n",
       "    </tr>\n",
       "    <tr>\n",
       "      <th>26</th>\n",
       "      <td>0.0</td>\n",
       "      <td>23.08</td>\n",
       "      <td>2.500</td>\n",
       "      <td>0.0</td>\n",
       "      <td>0.0</td>\n",
       "      <td>13.0</td>\n",
       "      <td>7.0</td>\n",
       "      <td>0.085</td>\n",
       "      <td>1.0</td>\n",
       "      <td>1.0</td>\n",
       "      <td>0.0</td>\n",
       "      <td>0.0</td>\n",
       "      <td>0.0</td>\n",
       "      <td>100.0</td>\n",
       "      <td>4208.0</td>\n",
       "    </tr>\n",
       "    <tr>\n",
       "      <th>27</th>\n",
       "      <td>1.0</td>\n",
       "      <td>25.33</td>\n",
       "      <td>2.085</td>\n",
       "      <td>0.0</td>\n",
       "      <td>0.0</td>\n",
       "      <td>0.0</td>\n",
       "      <td>1.0</td>\n",
       "      <td>2.750</td>\n",
       "      <td>0.0</td>\n",
       "      <td>1.0</td>\n",
       "      <td>0.0</td>\n",
       "      <td>0.0</td>\n",
       "      <td>0.0</td>\n",
       "      <td>360.0</td>\n",
       "      <td>1.0</td>\n",
       "    </tr>\n",
       "    <tr>\n",
       "      <th>28</th>\n",
       "      <td>1.0</td>\n",
       "      <td>20.50</td>\n",
       "      <td>11.835</td>\n",
       "      <td>0.0</td>\n",
       "      <td>0.0</td>\n",
       "      <td>0.0</td>\n",
       "      <td>1.0</td>\n",
       "      <td>6.000</td>\n",
       "      <td>0.0</td>\n",
       "      <td>1.0</td>\n",
       "      <td>0.0</td>\n",
       "      <td>1.0</td>\n",
       "      <td>0.0</td>\n",
       "      <td>340.0</td>\n",
       "      <td>0.0</td>\n",
       "    </tr>\n",
       "    <tr>\n",
       "      <th>29</th>\n",
       "      <td>1.0</td>\n",
       "      <td>49.00</td>\n",
       "      <td>1.500</td>\n",
       "      <td>0.0</td>\n",
       "      <td>0.0</td>\n",
       "      <td>4.0</td>\n",
       "      <td>3.0</td>\n",
       "      <td>0.000</td>\n",
       "      <td>0.0</td>\n",
       "      <td>1.0</td>\n",
       "      <td>0.0</td>\n",
       "      <td>0.0</td>\n",
       "      <td>0.0</td>\n",
       "      <td>100.0</td>\n",
       "      <td>27.0</td>\n",
       "    </tr>\n",
       "    <tr>\n",
       "      <th>...</th>\n",
       "      <td>...</td>\n",
       "      <td>...</td>\n",
       "      <td>...</td>\n",
       "      <td>...</td>\n",
       "      <td>...</td>\n",
       "      <td>...</td>\n",
       "      <td>...</td>\n",
       "      <td>...</td>\n",
       "      <td>...</td>\n",
       "      <td>...</td>\n",
       "      <td>...</td>\n",
       "      <td>...</td>\n",
       "      <td>...</td>\n",
       "      <td>...</td>\n",
       "      <td>...</td>\n",
       "    </tr>\n",
       "    <tr>\n",
       "      <th>660</th>\n",
       "      <td>0.0</td>\n",
       "      <td>29.58</td>\n",
       "      <td>4.500</td>\n",
       "      <td>0.0</td>\n",
       "      <td>0.0</td>\n",
       "      <td>9.0</td>\n",
       "      <td>0.0</td>\n",
       "      <td>7.500</td>\n",
       "      <td>0.0</td>\n",
       "      <td>0.0</td>\n",
       "      <td>2.0</td>\n",
       "      <td>0.0</td>\n",
       "      <td>0.0</td>\n",
       "      <td>330.0</td>\n",
       "      <td>0.0</td>\n",
       "    </tr>\n",
       "    <tr>\n",
       "      <th>661</th>\n",
       "      <td>0.0</td>\n",
       "      <td>27.25</td>\n",
       "      <td>1.585</td>\n",
       "      <td>0.0</td>\n",
       "      <td>0.0</td>\n",
       "      <td>2.0</td>\n",
       "      <td>1.0</td>\n",
       "      <td>1.835</td>\n",
       "      <td>0.0</td>\n",
       "      <td>0.0</td>\n",
       "      <td>12.0</td>\n",
       "      <td>0.0</td>\n",
       "      <td>0.0</td>\n",
       "      <td>583.0</td>\n",
       "      <td>713.0</td>\n",
       "    </tr>\n",
       "    <tr>\n",
       "      <th>662</th>\n",
       "      <td>1.0</td>\n",
       "      <td>19.58</td>\n",
       "      <td>0.665</td>\n",
       "      <td>1.0</td>\n",
       "      <td>1.0</td>\n",
       "      <td>0.0</td>\n",
       "      <td>0.0</td>\n",
       "      <td>1.000</td>\n",
       "      <td>1.0</td>\n",
       "      <td>0.0</td>\n",
       "      <td>1.0</td>\n",
       "      <td>1.0</td>\n",
       "      <td>0.0</td>\n",
       "      <td>2000.0</td>\n",
       "      <td>2.0</td>\n",
       "    </tr>\n",
       "    <tr>\n",
       "      <th>663</th>\n",
       "      <td>0.0</td>\n",
       "      <td>22.08</td>\n",
       "      <td>2.335</td>\n",
       "      <td>0.0</td>\n",
       "      <td>0.0</td>\n",
       "      <td>5.0</td>\n",
       "      <td>0.0</td>\n",
       "      <td>0.750</td>\n",
       "      <td>1.0</td>\n",
       "      <td>1.0</td>\n",
       "      <td>0.0</td>\n",
       "      <td>1.0</td>\n",
       "      <td>0.0</td>\n",
       "      <td>180.0</td>\n",
       "      <td>0.0</td>\n",
       "    </tr>\n",
       "    <tr>\n",
       "      <th>664</th>\n",
       "      <td>0.0</td>\n",
       "      <td>22.67</td>\n",
       "      <td>10.500</td>\n",
       "      <td>0.0</td>\n",
       "      <td>0.0</td>\n",
       "      <td>8.0</td>\n",
       "      <td>1.0</td>\n",
       "      <td>1.335</td>\n",
       "      <td>0.0</td>\n",
       "      <td>1.0</td>\n",
       "      <td>0.0</td>\n",
       "      <td>1.0</td>\n",
       "      <td>0.0</td>\n",
       "      <td>100.0</td>\n",
       "      <td>0.0</td>\n",
       "    </tr>\n",
       "    <tr>\n",
       "      <th>665</th>\n",
       "      <td>1.0</td>\n",
       "      <td>35.17</td>\n",
       "      <td>3.750</td>\n",
       "      <td>0.0</td>\n",
       "      <td>0.0</td>\n",
       "      <td>13.0</td>\n",
       "      <td>7.0</td>\n",
       "      <td>0.000</td>\n",
       "      <td>1.0</td>\n",
       "      <td>0.0</td>\n",
       "      <td>6.0</td>\n",
       "      <td>1.0</td>\n",
       "      <td>0.0</td>\n",
       "      <td>0.0</td>\n",
       "      <td>200.0</td>\n",
       "    </tr>\n",
       "    <tr>\n",
       "      <th>666</th>\n",
       "      <td>0.0</td>\n",
       "      <td>26.83</td>\n",
       "      <td>0.540</td>\n",
       "      <td>0.0</td>\n",
       "      <td>0.0</td>\n",
       "      <td>5.0</td>\n",
       "      <td>7.0</td>\n",
       "      <td>0.000</td>\n",
       "      <td>1.0</td>\n",
       "      <td>1.0</td>\n",
       "      <td>0.0</td>\n",
       "      <td>1.0</td>\n",
       "      <td>0.0</td>\n",
       "      <td>100.0</td>\n",
       "      <td>0.0</td>\n",
       "    </tr>\n",
       "    <tr>\n",
       "      <th>667</th>\n",
       "      <td>0.0</td>\n",
       "      <td>19.00</td>\n",
       "      <td>1.750</td>\n",
       "      <td>1.0</td>\n",
       "      <td>1.0</td>\n",
       "      <td>0.0</td>\n",
       "      <td>0.0</td>\n",
       "      <td>2.335</td>\n",
       "      <td>1.0</td>\n",
       "      <td>1.0</td>\n",
       "      <td>0.0</td>\n",
       "      <td>0.0</td>\n",
       "      <td>0.0</td>\n",
       "      <td>112.0</td>\n",
       "      <td>6.0</td>\n",
       "    </tr>\n",
       "    <tr>\n",
       "      <th>668</th>\n",
       "      <td>0.0</td>\n",
       "      <td>21.58</td>\n",
       "      <td>0.790</td>\n",
       "      <td>1.0</td>\n",
       "      <td>1.0</td>\n",
       "      <td>2.0</td>\n",
       "      <td>0.0</td>\n",
       "      <td>0.665</td>\n",
       "      <td>1.0</td>\n",
       "      <td>1.0</td>\n",
       "      <td>0.0</td>\n",
       "      <td>1.0</td>\n",
       "      <td>0.0</td>\n",
       "      <td>160.0</td>\n",
       "      <td>0.0</td>\n",
       "    </tr>\n",
       "    <tr>\n",
       "      <th>669</th>\n",
       "      <td>0.0</td>\n",
       "      <td>30.08</td>\n",
       "      <td>1.040</td>\n",
       "      <td>1.0</td>\n",
       "      <td>1.0</td>\n",
       "      <td>3.0</td>\n",
       "      <td>2.0</td>\n",
       "      <td>0.500</td>\n",
       "      <td>0.0</td>\n",
       "      <td>0.0</td>\n",
       "      <td>10.0</td>\n",
       "      <td>0.0</td>\n",
       "      <td>0.0</td>\n",
       "      <td>132.0</td>\n",
       "      <td>28.0</td>\n",
       "    </tr>\n",
       "    <tr>\n",
       "      <th>670</th>\n",
       "      <td>1.0</td>\n",
       "      <td>22.67</td>\n",
       "      <td>0.750</td>\n",
       "      <td>0.0</td>\n",
       "      <td>0.0</td>\n",
       "      <td>0.0</td>\n",
       "      <td>0.0</td>\n",
       "      <td>2.000</td>\n",
       "      <td>1.0</td>\n",
       "      <td>0.0</td>\n",
       "      <td>2.0</td>\n",
       "      <td>0.0</td>\n",
       "      <td>0.0</td>\n",
       "      <td>200.0</td>\n",
       "      <td>394.0</td>\n",
       "    </tr>\n",
       "    <tr>\n",
       "      <th>671</th>\n",
       "      <td>0.0</td>\n",
       "      <td>25.67</td>\n",
       "      <td>0.290</td>\n",
       "      <td>1.0</td>\n",
       "      <td>1.0</td>\n",
       "      <td>0.0</td>\n",
       "      <td>0.0</td>\n",
       "      <td>1.500</td>\n",
       "      <td>1.0</td>\n",
       "      <td>1.0</td>\n",
       "      <td>0.0</td>\n",
       "      <td>0.0</td>\n",
       "      <td>0.0</td>\n",
       "      <td>160.0</td>\n",
       "      <td>0.0</td>\n",
       "    </tr>\n",
       "    <tr>\n",
       "      <th>672</th>\n",
       "      <td>0.0</td>\n",
       "      <td>17.08</td>\n",
       "      <td>0.250</td>\n",
       "      <td>0.0</td>\n",
       "      <td>0.0</td>\n",
       "      <td>8.0</td>\n",
       "      <td>0.0</td>\n",
       "      <td>0.335</td>\n",
       "      <td>1.0</td>\n",
       "      <td>0.0</td>\n",
       "      <td>4.0</td>\n",
       "      <td>1.0</td>\n",
       "      <td>0.0</td>\n",
       "      <td>160.0</td>\n",
       "      <td>8.0</td>\n",
       "    </tr>\n",
       "    <tr>\n",
       "      <th>673</th>\n",
       "      <td>1.0</td>\n",
       "      <td>16.00</td>\n",
       "      <td>0.165</td>\n",
       "      <td>0.0</td>\n",
       "      <td>0.0</td>\n",
       "      <td>12.0</td>\n",
       "      <td>0.0</td>\n",
       "      <td>1.000</td>\n",
       "      <td>1.0</td>\n",
       "      <td>0.0</td>\n",
       "      <td>2.0</td>\n",
       "      <td>0.0</td>\n",
       "      <td>0.0</td>\n",
       "      <td>320.0</td>\n",
       "      <td>1.0</td>\n",
       "    </tr>\n",
       "    <tr>\n",
       "      <th>674</th>\n",
       "      <td>0.0</td>\n",
       "      <td>32.33</td>\n",
       "      <td>7.500</td>\n",
       "      <td>0.0</td>\n",
       "      <td>0.0</td>\n",
       "      <td>11.0</td>\n",
       "      <td>2.0</td>\n",
       "      <td>1.585</td>\n",
       "      <td>0.0</td>\n",
       "      <td>1.0</td>\n",
       "      <td>0.0</td>\n",
       "      <td>0.0</td>\n",
       "      <td>2.0</td>\n",
       "      <td>420.0</td>\n",
       "      <td>0.0</td>\n",
       "    </tr>\n",
       "    <tr>\n",
       "      <th>675</th>\n",
       "      <td>0.0</td>\n",
       "      <td>28.75</td>\n",
       "      <td>1.165</td>\n",
       "      <td>0.0</td>\n",
       "      <td>0.0</td>\n",
       "      <td>5.0</td>\n",
       "      <td>0.0</td>\n",
       "      <td>0.500</td>\n",
       "      <td>0.0</td>\n",
       "      <td>1.0</td>\n",
       "      <td>0.0</td>\n",
       "      <td>1.0</td>\n",
       "      <td>2.0</td>\n",
       "      <td>280.0</td>\n",
       "      <td>0.0</td>\n",
       "    </tr>\n",
       "    <tr>\n",
       "      <th>676</th>\n",
       "      <td>0.0</td>\n",
       "      <td>18.83</td>\n",
       "      <td>0.415</td>\n",
       "      <td>1.0</td>\n",
       "      <td>1.0</td>\n",
       "      <td>0.0</td>\n",
       "      <td>0.0</td>\n",
       "      <td>0.165</td>\n",
       "      <td>1.0</td>\n",
       "      <td>0.0</td>\n",
       "      <td>1.0</td>\n",
       "      <td>1.0</td>\n",
       "      <td>0.0</td>\n",
       "      <td>200.0</td>\n",
       "      <td>1.0</td>\n",
       "    </tr>\n",
       "    <tr>\n",
       "      <th>677</th>\n",
       "      <td>0.0</td>\n",
       "      <td>24.33</td>\n",
       "      <td>6.625</td>\n",
       "      <td>1.0</td>\n",
       "      <td>1.0</td>\n",
       "      <td>1.0</td>\n",
       "      <td>0.0</td>\n",
       "      <td>5.500</td>\n",
       "      <td>0.0</td>\n",
       "      <td>1.0</td>\n",
       "      <td>0.0</td>\n",
       "      <td>0.0</td>\n",
       "      <td>2.0</td>\n",
       "      <td>100.0</td>\n",
       "      <td>0.0</td>\n",
       "    </tr>\n",
       "    <tr>\n",
       "      <th>678</th>\n",
       "      <td>1.0</td>\n",
       "      <td>17.58</td>\n",
       "      <td>9.000</td>\n",
       "      <td>0.0</td>\n",
       "      <td>0.0</td>\n",
       "      <td>12.0</td>\n",
       "      <td>0.0</td>\n",
       "      <td>1.375</td>\n",
       "      <td>0.0</td>\n",
       "      <td>1.0</td>\n",
       "      <td>0.0</td>\n",
       "      <td>0.0</td>\n",
       "      <td>0.0</td>\n",
       "      <td>0.0</td>\n",
       "      <td>0.0</td>\n",
       "    </tr>\n",
       "    <tr>\n",
       "      <th>679</th>\n",
       "      <td>1.0</td>\n",
       "      <td>57.08</td>\n",
       "      <td>19.500</td>\n",
       "      <td>0.0</td>\n",
       "      <td>0.0</td>\n",
       "      <td>0.0</td>\n",
       "      <td>0.0</td>\n",
       "      <td>5.500</td>\n",
       "      <td>0.0</td>\n",
       "      <td>0.0</td>\n",
       "      <td>7.0</td>\n",
       "      <td>1.0</td>\n",
       "      <td>0.0</td>\n",
       "      <td>0.0</td>\n",
       "      <td>3000.0</td>\n",
       "    </tr>\n",
       "    <tr>\n",
       "      <th>680</th>\n",
       "      <td>0.0</td>\n",
       "      <td>80.25</td>\n",
       "      <td>5.500</td>\n",
       "      <td>0.0</td>\n",
       "      <td>0.0</td>\n",
       "      <td>2.0</td>\n",
       "      <td>2.0</td>\n",
       "      <td>0.540</td>\n",
       "      <td>0.0</td>\n",
       "      <td>1.0</td>\n",
       "      <td>0.0</td>\n",
       "      <td>1.0</td>\n",
       "      <td>0.0</td>\n",
       "      <td>0.0</td>\n",
       "      <td>340.0</td>\n",
       "    </tr>\n",
       "    <tr>\n",
       "      <th>681</th>\n",
       "      <td>0.0</td>\n",
       "      <td>23.00</td>\n",
       "      <td>0.750</td>\n",
       "      <td>0.0</td>\n",
       "      <td>0.0</td>\n",
       "      <td>6.0</td>\n",
       "      <td>0.0</td>\n",
       "      <td>0.500</td>\n",
       "      <td>0.0</td>\n",
       "      <td>1.0</td>\n",
       "      <td>0.0</td>\n",
       "      <td>0.0</td>\n",
       "      <td>2.0</td>\n",
       "      <td>320.0</td>\n",
       "      <td>0.0</td>\n",
       "    </tr>\n",
       "    <tr>\n",
       "      <th>682</th>\n",
       "      <td>0.0</td>\n",
       "      <td>16.25</td>\n",
       "      <td>0.000</td>\n",
       "      <td>1.0</td>\n",
       "      <td>1.0</td>\n",
       "      <td>12.0</td>\n",
       "      <td>0.0</td>\n",
       "      <td>0.250</td>\n",
       "      <td>1.0</td>\n",
       "      <td>1.0</td>\n",
       "      <td>0.0</td>\n",
       "      <td>1.0</td>\n",
       "      <td>0.0</td>\n",
       "      <td>60.0</td>\n",
       "      <td>0.0</td>\n",
       "    </tr>\n",
       "    <tr>\n",
       "      <th>683</th>\n",
       "      <td>1.0</td>\n",
       "      <td>25.75</td>\n",
       "      <td>0.500</td>\n",
       "      <td>0.0</td>\n",
       "      <td>0.0</td>\n",
       "      <td>0.0</td>\n",
       "      <td>1.0</td>\n",
       "      <td>0.875</td>\n",
       "      <td>0.0</td>\n",
       "      <td>1.0</td>\n",
       "      <td>0.0</td>\n",
       "      <td>0.0</td>\n",
       "      <td>0.0</td>\n",
       "      <td>491.0</td>\n",
       "      <td>0.0</td>\n",
       "    </tr>\n",
       "    <tr>\n",
       "      <th>684</th>\n",
       "      <td>0.0</td>\n",
       "      <td>56.00</td>\n",
       "      <td>12.500</td>\n",
       "      <td>0.0</td>\n",
       "      <td>0.0</td>\n",
       "      <td>5.0</td>\n",
       "      <td>1.0</td>\n",
       "      <td>8.000</td>\n",
       "      <td>0.0</td>\n",
       "      <td>1.0</td>\n",
       "      <td>0.0</td>\n",
       "      <td>0.0</td>\n",
       "      <td>0.0</td>\n",
       "      <td>24.0</td>\n",
       "      <td>2028.0</td>\n",
       "    </tr>\n",
       "    <tr>\n",
       "      <th>685</th>\n",
       "      <td>1.0</td>\n",
       "      <td>71.58</td>\n",
       "      <td>0.000</td>\n",
       "      <td>2.0</td>\n",
       "      <td>2.0</td>\n",
       "      <td>2.0</td>\n",
       "      <td>2.0</td>\n",
       "      <td>0.000</td>\n",
       "      <td>1.0</td>\n",
       "      <td>1.0</td>\n",
       "      <td>0.0</td>\n",
       "      <td>1.0</td>\n",
       "      <td>1.0</td>\n",
       "      <td>0.0</td>\n",
       "      <td>0.0</td>\n",
       "    </tr>\n",
       "    <tr>\n",
       "      <th>686</th>\n",
       "      <td>0.0</td>\n",
       "      <td>0.00</td>\n",
       "      <td>0.625</td>\n",
       "      <td>0.0</td>\n",
       "      <td>0.0</td>\n",
       "      <td>5.0</td>\n",
       "      <td>0.0</td>\n",
       "      <td>0.250</td>\n",
       "      <td>1.0</td>\n",
       "      <td>1.0</td>\n",
       "      <td>0.0</td>\n",
       "      <td>1.0</td>\n",
       "      <td>0.0</td>\n",
       "      <td>380.0</td>\n",
       "      <td>2010.0</td>\n",
       "    </tr>\n",
       "    <tr>\n",
       "      <th>687</th>\n",
       "      <td>0.0</td>\n",
       "      <td>25.17</td>\n",
       "      <td>3.000</td>\n",
       "      <td>0.0</td>\n",
       "      <td>0.0</td>\n",
       "      <td>0.0</td>\n",
       "      <td>0.0</td>\n",
       "      <td>1.250</td>\n",
       "      <td>1.0</td>\n",
       "      <td>0.0</td>\n",
       "      <td>1.0</td>\n",
       "      <td>1.0</td>\n",
       "      <td>0.0</td>\n",
       "      <td>0.0</td>\n",
       "      <td>22.0</td>\n",
       "    </tr>\n",
       "    <tr>\n",
       "      <th>688</th>\n",
       "      <td>0.0</td>\n",
       "      <td>31.00</td>\n",
       "      <td>2.085</td>\n",
       "      <td>0.0</td>\n",
       "      <td>0.0</td>\n",
       "      <td>0.0</td>\n",
       "      <td>0.0</td>\n",
       "      <td>0.085</td>\n",
       "      <td>1.0</td>\n",
       "      <td>1.0</td>\n",
       "      <td>0.0</td>\n",
       "      <td>1.0</td>\n",
       "      <td>0.0</td>\n",
       "      <td>300.0</td>\n",
       "      <td>0.0</td>\n",
       "    </tr>\n",
       "    <tr>\n",
       "      <th>689</th>\n",
       "      <td>0.0</td>\n",
       "      <td>31.42</td>\n",
       "      <td>15.500</td>\n",
       "      <td>0.0</td>\n",
       "      <td>0.0</td>\n",
       "      <td>0.0</td>\n",
       "      <td>0.0</td>\n",
       "      <td>0.500</td>\n",
       "      <td>0.0</td>\n",
       "      <td>1.0</td>\n",
       "      <td>0.0</td>\n",
       "      <td>1.0</td>\n",
       "      <td>0.0</td>\n",
       "      <td>120.0</td>\n",
       "      <td>0.0</td>\n",
       "    </tr>\n",
       "  </tbody>\n",
       "</table>\n",
       "<p>690 rows × 15 columns</p>\n",
       "</div>"
      ],
      "text/plain": [
       "      0      1       2    3    4     5    6      7    8    9     10   11   12  \\\n",
       "0    0.0  44.33   0.500  0.0  0.0   3.0  1.0  5.000  0.0  1.0   0.0  0.0  0.0   \n",
       "1    1.0  44.33   0.000  0.0  0.0   0.0  0.0  2.500  0.0  1.0   0.0  1.0  0.0   \n",
       "2    0.0  34.92   2.500  0.0  0.0   9.0  0.0  0.000  0.0  1.0   0.0  0.0  0.0   \n",
       "3    0.0  27.58   2.040  1.0  1.0  12.0  0.0  2.000  0.0  0.0   3.0  0.0  0.0   \n",
       "4    0.0  23.17   0.000  0.0  0.0   2.0  0.0  0.085  0.0  1.0   0.0  1.0  0.0   \n",
       "5    0.0  49.58  19.000  0.0  0.0  13.0  7.0  0.000  0.0  0.0   1.0  1.0  0.0   \n",
       "6    0.0  22.67   2.540  1.0  1.0   0.0  1.0  2.585  0.0  1.0   0.0  1.0  0.0   \n",
       "7    0.0  41.17   1.250  1.0  1.0   9.0  0.0  0.250  1.0  1.0   0.0  1.0  0.0   \n",
       "8    0.0  16.33   4.085  0.0  0.0   3.0  1.0  0.415  1.0  1.0   0.0  0.0  0.0   \n",
       "9    1.0  26.92  13.500  0.0  0.0   8.0  1.0  5.000  0.0  0.0   2.0  1.0  0.0   \n",
       "10   0.0  48.58   0.205  1.0  1.0   5.0  0.0  0.250  0.0  0.0  11.0  1.0  0.0   \n",
       "11   0.0  25.92   0.875  0.0  0.0   5.0  0.0  0.375  1.0  0.0   2.0  0.0  0.0   \n",
       "12   0.0  21.67   1.165  1.0  1.0   5.0  0.0  2.500  0.0  0.0   1.0  1.0  0.0   \n",
       "13   0.0  37.50   1.750  1.0  1.0   0.0  2.0  0.250  0.0  1.0   0.0  0.0  0.0   \n",
       "14   0.0  24.58   1.250  0.0  0.0   0.0  0.0  0.250  1.0  1.0   0.0  1.0  0.0   \n",
       "15   0.0  28.00   3.000  0.0  0.0   9.0  0.0  0.750  1.0  1.0   0.0  0.0  0.0   \n",
       "16   1.0  15.75   0.375  0.0  0.0   0.0  0.0  1.000  1.0  1.0   0.0  1.0  0.0   \n",
       "17   1.0  33.25   2.500  1.0  1.0   0.0  0.0  2.500  1.0  1.0   0.0  0.0  0.0   \n",
       "18   0.0  51.83   2.040  1.0  1.0  13.0  7.0  1.500  1.0  1.0   0.0  1.0  0.0   \n",
       "19   0.0  19.67  10.000  1.0  1.0   5.0  1.0  0.835  0.0  1.0   0.0  0.0  0.0   \n",
       "20   0.0  39.58  13.915  0.0  0.0   9.0  0.0  8.625  0.0  0.0   6.0  0.0  0.0   \n",
       "21   1.0  16.50   1.250  0.0  0.0   8.0  0.0  0.250  1.0  0.0   1.0  1.0  0.0   \n",
       "22   0.0  30.17   0.500  0.0  0.0   0.0  0.0  1.750  0.0  0.0  11.0  1.0  0.0   \n",
       "23   0.0  24.50  13.335  1.0  1.0  12.0  0.0  0.040  1.0  1.0   0.0  0.0  0.0   \n",
       "24   0.0  20.00  11.045  0.0  0.0   0.0  0.0  2.000  1.0  1.0   0.0  0.0  0.0   \n",
       "25   0.0  29.83   2.040  1.0  1.0  10.0  1.0  0.040  1.0  1.0   0.0  1.0  0.0   \n",
       "26   0.0  23.08   2.500  0.0  0.0  13.0  7.0  0.085  1.0  1.0   0.0  0.0  0.0   \n",
       "27   1.0  25.33   2.085  0.0  0.0   0.0  1.0  2.750  0.0  1.0   0.0  0.0  0.0   \n",
       "28   1.0  20.50  11.835  0.0  0.0   0.0  1.0  6.000  0.0  1.0   0.0  1.0  0.0   \n",
       "29   1.0  49.00   1.500  0.0  0.0   4.0  3.0  0.000  0.0  1.0   0.0  0.0  0.0   \n",
       "..   ...    ...     ...  ...  ...   ...  ...    ...  ...  ...   ...  ...  ...   \n",
       "660  0.0  29.58   4.500  0.0  0.0   9.0  0.0  7.500  0.0  0.0   2.0  0.0  0.0   \n",
       "661  0.0  27.25   1.585  0.0  0.0   2.0  1.0  1.835  0.0  0.0  12.0  0.0  0.0   \n",
       "662  1.0  19.58   0.665  1.0  1.0   0.0  0.0  1.000  1.0  0.0   1.0  1.0  0.0   \n",
       "663  0.0  22.08   2.335  0.0  0.0   5.0  0.0  0.750  1.0  1.0   0.0  1.0  0.0   \n",
       "664  0.0  22.67  10.500  0.0  0.0   8.0  1.0  1.335  0.0  1.0   0.0  1.0  0.0   \n",
       "665  1.0  35.17   3.750  0.0  0.0  13.0  7.0  0.000  1.0  0.0   6.0  1.0  0.0   \n",
       "666  0.0  26.83   0.540  0.0  0.0   5.0  7.0  0.000  1.0  1.0   0.0  1.0  0.0   \n",
       "667  0.0  19.00   1.750  1.0  1.0   0.0  0.0  2.335  1.0  1.0   0.0  0.0  0.0   \n",
       "668  0.0  21.58   0.790  1.0  1.0   2.0  0.0  0.665  1.0  1.0   0.0  1.0  0.0   \n",
       "669  0.0  30.08   1.040  1.0  1.0   3.0  2.0  0.500  0.0  0.0  10.0  0.0  0.0   \n",
       "670  1.0  22.67   0.750  0.0  0.0   0.0  0.0  2.000  1.0  0.0   2.0  0.0  0.0   \n",
       "671  0.0  25.67   0.290  1.0  1.0   0.0  0.0  1.500  1.0  1.0   0.0  0.0  0.0   \n",
       "672  0.0  17.08   0.250  0.0  0.0   8.0  0.0  0.335  1.0  0.0   4.0  1.0  0.0   \n",
       "673  1.0  16.00   0.165  0.0  0.0  12.0  0.0  1.000  1.0  0.0   2.0  0.0  0.0   \n",
       "674  0.0  32.33   7.500  0.0  0.0  11.0  2.0  1.585  0.0  1.0   0.0  0.0  2.0   \n",
       "675  0.0  28.75   1.165  0.0  0.0   5.0  0.0  0.500  0.0  1.0   0.0  1.0  2.0   \n",
       "676  0.0  18.83   0.415  1.0  1.0   0.0  0.0  0.165  1.0  0.0   1.0  1.0  0.0   \n",
       "677  0.0  24.33   6.625  1.0  1.0   1.0  0.0  5.500  0.0  1.0   0.0  0.0  2.0   \n",
       "678  1.0  17.58   9.000  0.0  0.0  12.0  0.0  1.375  0.0  1.0   0.0  0.0  0.0   \n",
       "679  1.0  57.08  19.500  0.0  0.0   0.0  0.0  5.500  0.0  0.0   7.0  1.0  0.0   \n",
       "680  0.0  80.25   5.500  0.0  0.0   2.0  2.0  0.540  0.0  1.0   0.0  1.0  0.0   \n",
       "681  0.0  23.00   0.750  0.0  0.0   6.0  0.0  0.500  0.0  1.0   0.0  0.0  2.0   \n",
       "682  0.0  16.25   0.000  1.0  1.0  12.0  0.0  0.250  1.0  1.0   0.0  1.0  0.0   \n",
       "683  1.0  25.75   0.500  0.0  0.0   0.0  1.0  0.875  0.0  1.0   0.0  0.0  0.0   \n",
       "684  0.0  56.00  12.500  0.0  0.0   5.0  1.0  8.000  0.0  1.0   0.0  0.0  0.0   \n",
       "685  1.0  71.58   0.000  2.0  2.0   2.0  2.0  0.000  1.0  1.0   0.0  1.0  1.0   \n",
       "686  0.0   0.00   0.625  0.0  0.0   5.0  0.0  0.250  1.0  1.0   0.0  1.0  0.0   \n",
       "687  0.0  25.17   3.000  0.0  0.0   0.0  0.0  1.250  1.0  0.0   1.0  1.0  0.0   \n",
       "688  0.0  31.00   2.085  0.0  0.0   0.0  0.0  0.085  1.0  1.0   0.0  1.0  0.0   \n",
       "689  0.0  31.42  15.500  0.0  0.0   0.0  0.0  0.500  0.0  1.0   0.0  1.0  0.0   \n",
       "\n",
       "         13      14  \n",
       "0     320.0     0.0  \n",
       "1       0.0     0.0  \n",
       "2     239.0   200.0  \n",
       "3     370.0   560.0  \n",
       "4       0.0     0.0  \n",
       "5      94.0     0.0  \n",
       "6       0.0     0.0  \n",
       "7       0.0   195.0  \n",
       "8     120.0     0.0  \n",
       "9       0.0  5000.0  \n",
       "10    380.0  2732.0  \n",
       "11    174.0     3.0  \n",
       "12    180.0    20.0  \n",
       "13    164.0   400.0  \n",
       "14    110.0     0.0  \n",
       "15    300.0    67.0  \n",
       "16    120.0    18.0  \n",
       "17      0.0     2.0  \n",
       "18    120.0     1.0  \n",
       "19    140.0     0.0  \n",
       "20     70.0     0.0  \n",
       "21    108.0    98.0  \n",
       "22     32.0   540.0  \n",
       "23    120.0   475.0  \n",
       "24    136.0     0.0  \n",
       "25    128.0     1.0  \n",
       "26    100.0  4208.0  \n",
       "27    360.0     1.0  \n",
       "28    340.0     0.0  \n",
       "29    100.0    27.0  \n",
       "..      ...     ...  \n",
       "660   330.0     0.0  \n",
       "661   583.0   713.0  \n",
       "662  2000.0     2.0  \n",
       "663   180.0     0.0  \n",
       "664   100.0     0.0  \n",
       "665     0.0   200.0  \n",
       "666   100.0     0.0  \n",
       "667   112.0     6.0  \n",
       "668   160.0     0.0  \n",
       "669   132.0    28.0  \n",
       "670   200.0   394.0  \n",
       "671   160.0     0.0  \n",
       "672   160.0     8.0  \n",
       "673   320.0     1.0  \n",
       "674   420.0     0.0  \n",
       "675   280.0     0.0  \n",
       "676   200.0     1.0  \n",
       "677   100.0     0.0  \n",
       "678     0.0     0.0  \n",
       "679     0.0  3000.0  \n",
       "680     0.0   340.0  \n",
       "681   320.0     0.0  \n",
       "682    60.0     0.0  \n",
       "683   491.0     0.0  \n",
       "684    24.0  2028.0  \n",
       "685     0.0     0.0  \n",
       "686   380.0  2010.0  \n",
       "687     0.0    22.0  \n",
       "688   300.0     0.0  \n",
       "689   120.0     0.0  \n",
       "\n",
       "[690 rows x 15 columns]"
      ]
     },
     "execution_count": 59,
     "metadata": {},
     "output_type": "execute_result"
    }
   ],
   "source": [
    "df"
   ]
  },
  {
   "cell_type": "code",
   "execution_count": 78,
   "metadata": {
    "collapsed": false
   },
   "outputs": [
    {
     "name": "stdout",
     "output_type": "stream",
     "text": [
      "@RELATION credit-rating@ATTRIBUTE A1\n",
      " {b, a}\n",
      "@ATTRIBUTE A2\n",
      " CONTINUOUS\n",
      "@ATTRIBUTE A3\n",
      " CONTINUOUS\n",
      "@ATTRIBUTE A4\n",
      " {u, y, l, t}\n",
      "@ATTRIBUTE A5\n",
      " {g, p, gg}\n",
      "@ATTRIBUTE A6\n",
      " {c, d, cc, i, j, k, m, r, q, w, x, e, aa, ff}\n",
      "@ATTRIBUTE A7\n",
      " {v, h, bb, j, n, z, dd, ff, o}\n",
      "@ATTRIBUTE A8\n",
      " CONTINUOUS\n",
      "@ATTRIBUTE A9\n",
      " {t, f}\n",
      "@ATTRIBUTE A10\n",
      " {t, f}\n",
      "@ATTRIBUTE A11\n",
      " CONTINUOUS\n",
      "@ATTRIBUTE A12\n",
      " {t, f}\n",
      "@ATTRIBUTE A13\n",
      " {g, p, s}\n",
      "@ATTRIBUTE A14\n",
      " CONTINUOUS\n",
      "@ATTRIBUTE A15\n",
      " CONTINUOUS\n",
      "@ATTRIBUTE class\n",
      " {+, -}\n",
      "@DATA\n",
      "[[   0.      44.33     0.5   ...,    0.     320.       0.   ]\n",
      " [   1.      44.33     0.    ...,    0.       0.       0.   ]\n",
      " [   0.      34.92     2.5   ...,    0.     239.     200.   ]\n",
      " ..., \n",
      " [   0.      25.17     3.    ...,    0.       0.      22.   ]\n",
      " [   0.      31.       2.085 ...,    0.     300.       0.   ]\n",
      " [   0.      31.42    15.5   ...,    0.     120.       0.   ]]\n"
     ]
    }
   ],
   "source": [
    "print data"
   ]
  },
  {
   "cell_type": "code",
   "execution_count": null,
   "metadata": {
    "collapsed": true
   },
   "outputs": [],
   "source": [
    "knn = KNNRegression(k=k, weighted=True)\n",
    "knn.fit(x_train, y_train)\n",
    "knn_acc.append(mean_squared_error(knn.predict(x_test), y_test))"
   ]
  },
  {
   "cell_type": "code",
   "execution_count": 8,
   "metadata": {
    "collapsed": true
   },
   "outputs": [],
   "source": [
    "from scipy.spatial import kdtree"
   ]
  },
  {
   "cell_type": "code",
   "execution_count": 13,
   "metadata": {
    "collapsed": false
   },
   "outputs": [
    {
     "data": {
      "text/plain": [
       "array([-0.52029948, -0.4436906 , -0.48310463,  0.03730648, -0.02028129,\n",
       "       -0.54479627,  0.18929675, -0.45301518,  2.06963304,  0.56305572])"
      ]
     },
     "execution_count": 13,
     "metadata": {},
     "output_type": "execute_result"
    }
   ],
   "source": [
    "x_test[0,:]"
   ]
  },
  {
   "cell_type": "code",
   "execution_count": 9,
   "metadata": {
    "collapsed": false
   },
   "outputs": [],
   "source": [
    "kd = kdtree.KDTree(x_train)"
   ]
  },
  {
   "cell_type": "code",
   "execution_count": 18,
   "metadata": {
    "collapsed": false
   },
   "outputs": [
    {
     "data": {
      "text/plain": [
       "(array([ 0.37454211,  0.39884559,  0.79220495,  0.80642474,  0.81612462,\n",
       "         0.85238838,  0.86741427,  0.89844384]),\n",
       " array([2355, 4044, 4688, 6138,  322, 1002, 1346,   83]))"
      ]
     },
     "execution_count": 18,
     "metadata": {},
     "output_type": "execute_result"
    }
   ],
   "source": [
    "kd.query(x_test[0,:], k=8)"
   ]
  },
  {
   "cell_type": "code",
   "execution_count": 269,
   "metadata": {
    "collapsed": false
   },
   "outputs": [
    {
     "data": {
      "text/plain": [
       "array([-0.72274438, -0.39772184, -0.8231228 ,  0.64474212,  0.32735342,\n",
       "       -0.16236592, -0.38955674,  0.61681988, -0.94493536, -0.69080543])"
      ]
     },
     "execution_count": 269,
     "metadata": {},
     "output_type": "execute_result"
    }
   ],
   "source": [
    "x_train[0,:]"
   ]
  },
  {
   "cell_type": "code",
   "execution_count": 17,
   "metadata": {
    "collapsed": false
   },
   "outputs": [
    {
     "data": {
      "text/plain": [
       "(9883, 10)"
      ]
     },
     "execution_count": 17,
     "metadata": {},
     "output_type": "execute_result"
    }
   ],
   "source": [
    "kd.data.shape"
   ]
  },
  {
   "cell_type": "code",
   "execution_count": 25,
   "metadata": {
    "collapsed": true
   },
   "outputs": [],
   "source": [
    "class KNN_kd():\n",
    "    \n",
    "    def __init__(self, k=3, weighted=True):\n",
    "        self.k = k\n",
    "        self.weighted = weighted\n",
    "    \n",
    "    \n",
    "    def _distance(self, point, neighbors):\n",
    "        try:\n",
    "            eps = 1e-10\n",
    "            return np.sqrt(np.sum((neighbors - point)**2, axis=1)) + eps\n",
    "        except:\n",
    "            return np.sqrt(np.sum((neighbors - point)**2)) + eps\n",
    "\n",
    " \n",
    "    def fit(self, x_train, y_train):\n",
    "        self.kd_tree = kdtree.KDTree(x_train)\n",
    "        self.labels = y_train\n",
    "        \n",
    "        \n",
    "    def predict(self, x_test, weighted=True):\n",
    "        kd_tree, labels = self.kd_tree, self.labels\n",
    "        n = x_test.shape[0]\n",
    "        closest = np.zeros(n)\n",
    "        \n",
    "        for i in range(n):\n",
    "            dist, indx_list = kd_tree.query(x_test[i,:], self.k)\n",
    "            neighbors = defaultdict(lambda:0)\n",
    "            for j in indx_list:\n",
    "                if self.weighted:\n",
    "                    weight = 1 / self._distance(x_test[i,:], data[j])**2\n",
    "                else:\n",
    "                    weight = 1\n",
    "                neighbors[labels[j]] += weight\n",
    "            \n",
    "            max_prob = 0\n",
    "            max_key = None\n",
    "            for key, val in neighbors.iteritems():\n",
    "                if val > max_prob:\n",
    "                    max_prob = val\n",
    "                    max_key = key\n",
    "                                \n",
    "            closest[i] = max_key\n",
    "                                \n",
    "        return closest        "
   ]
  },
  {
   "cell_type": "code",
   "execution_count": 59,
   "metadata": {
    "collapsed": true
   },
   "outputs": [],
   "source": [
    "import time"
   ]
  },
  {
   "cell_type": "code",
   "execution_count": 36,
   "metadata": {
    "collapsed": true
   },
   "outputs": [],
   "source": [
    "def _distance(point, neighbors):\n",
    "    try:\n",
    "        eps = 1e-10\n",
    "        return np.sqrt(np.sum((neighbors - point)**2, axis=1)) + eps\n",
    "    except:\n",
    "        return np.sqrt(np.sum((neighbors - point)**2)) + eps"
   ]
  },
  {
   "cell_type": "code",
   "execution_count": 56,
   "metadata": {
    "collapsed": false
   },
   "outputs": [],
   "source": [
    "data = np.random.random((1000,5)) * 100\n",
    "k = 5\n",
    "kd_tree = kdtree.KDTree(data)\n",
    "point = np.random.random(5) * 100"
   ]
  },
  {
   "cell_type": "code",
   "execution_count": 124,
   "metadata": {
    "collapsed": false
   },
   "outputs": [
    {
     "name": "stderr",
     "output_type": "stream",
     "text": [
      "100%|██████████| 7/7 [01:00<00:00, 17.59s/it]\n"
     ]
    }
   ],
   "source": [
    "regular_times = []\n",
    "tree_times = []\n",
    "time_diff = []\n",
    "\n",
    "for x in tqdm.tqdm([10**i for i in range(1,8)]):\n",
    "    data = np.random.random((x,5)) * 100\n",
    "    k = 5\n",
    "    kd_tree = kdtree.KDTree(data)\n",
    "    point = np.random.random(5) * 100\n",
    "\n",
    "    start = time.time()\n",
    "    dist = _distance(point, data)\n",
    "    indices = np.argsort(dist, axis=0)\n",
    "    indices = indices[:k]\n",
    "    end = time.time()\n",
    "    reg_time = end - start\n",
    "\n",
    "    start = time.time()\n",
    "    dist, indx_list = kd_tree.query(point, k)\n",
    "    end = time.time()\n",
    "    tree_time = end - start\n",
    "    regular_times.append(reg_time)\n",
    "    tree_times.append(tree_time)\n",
    "    \n",
    "    time_diff.append(reg_time - tree_time)"
   ]
  },
  {
   "cell_type": "code",
   "execution_count": 125,
   "metadata": {
    "collapsed": false
   },
   "outputs": [
    {
     "data": {
      "text/plain": [
       "<matplotlib.legend.Legend at 0x10b4f9050>"
      ]
     },
     "execution_count": 125,
     "metadata": {},
     "output_type": "execute_result"
    },
    {
     "data": {
      "image/png": "[encoded data removed]",
      "text/plain": [
       "<matplotlib.figure.Figure at 0x189104810>"
      ]
     },
     "metadata": {},
     "output_type": "display_data"
    }
   ],
   "source": [
    "plt.plot(regular_times, label='Brute Force')\n",
    "plt.plot(tree_times, label='KD Tree')\n",
    "plt.legend(loc='upper left')"
   ]
  },
  {
   "cell_type": "code",
   "execution_count": 126,
   "metadata": {
    "collapsed": false
   },
   "outputs": [
    {
     "data": {
      "image/png": "[encoded data removed]",
      "text/plain": [
       "<matplotlib.figure.Figure at 0x11abb9b50>"
      ]
     },
     "metadata": {},
     "output_type": "display_data"
    }
   ],
   "source": [
    "plt.bar(range(1,8), time_diff, align='center')\n",
    "plt.xticks(range(1,8), [10**i for i in range(1,8)], rotation='45')\n",
    "plt.xlim(0,7.5)\n",
    "plt.ylim(0,3.5)\n",
    "plt.xlabel('Number Data Points')\n",
    "plt.ylabel('Time diff (seconds)')\n",
    "plt.title('Time Gains with KDTree')\n",
    "plt.savefig('depth-vs-time.png', format='png', dpi=1200)"
   ]
  },
  {
   "cell_type": "code",
   "execution_count": 115,
   "metadata": {
    "collapsed": false
   },
   "outputs": [
    {
     "name": "stderr",
     "output_type": "stream",
     "text": [
      "100%|██████████| 9/9 [01:23<00:00, 11.15s/it]\n"
     ]
    }
   ],
   "source": [
    "regular_times = []\n",
    "tree_times = []\n",
    "time_diff = []\n",
    "\n",
    "for x in tqdm.tqdm([5*i for i in range(1,10)]):\n",
    "    data = np.random.random((1000000,x)) * 100\n",
    "    k = 5\n",
    "    kd_tree = kdtree.KDTree(data)\n",
    "    point = np.random.random(x) * 100\n",
    "\n",
    "    start = time.time()\n",
    "    dist = _distance(point, data)\n",
    "    indices = np.argsort(dist, axis=0)\n",
    "    indices = indices[:k]\n",
    "    end = time.time()\n",
    "    reg_time = end - start\n",
    "\n",
    "    start = time.time()\n",
    "    dist, indx_list = kd_tree.query(point, k)\n",
    "    end = time.time()\n",
    "    tree_time = end - start\n",
    "    regular_times.append(reg_time)\n",
    "    tree_times.append(tree_time)\n",
    "    \n",
    "    time_diff.append(reg_time - tree_time)"
   ]
  },
  {
   "cell_type": "code",
   "execution_count": 122,
   "metadata": {
    "collapsed": false
   },
   "outputs": [
    {
     "data": {
      "image/png": "[encoded data removed]",
      "text/plain": [
       "<matplotlib.figure.Figure at 0x11cba2590>"
      ]
     },
     "metadata": {},
     "output_type": "display_data"
    }
   ],
   "source": [
    "plt.title('Number of Features vs Time')\n",
    "plt.ylabel('Time (seconds)')\n",
    "plt.xlabel('Number of Features')\n",
    "plt.xticks(range(0,8), [5*i for i in range(1,11)])\n",
    "plt.plot(regular_times, label='Brute Force')\n",
    "plt.plot(tree_times, label='KD Tree')\n",
    "plt.legend(loc='upper left')\n",
    "plt.savefig('features-vs-time.png', format='png', dpi=1200)"
   ]
  },
  {
   "cell_type": "code",
   "execution_count": 26,
   "metadata": {
    "collapsed": true
   },
   "outputs": [],
   "source": [
    "train = DataManager('datasets/mt_train.arff')\n",
    "train.normalize()\n",
    "x_train, y_train = train.data, train.labels\n",
    "test = DataManager('datasets/mt_test.arff')\n",
    "test.normalize()\n",
    "x_test, y_test = test.data, test.labels"
   ]
  },
  {
   "cell_type": "code",
   "execution_count": 23,
   "metadata": {
    "collapsed": false
   },
   "outputs": [
    {
     "data": {
      "text/plain": [
       "0.83648364836483646"
      ]
     },
     "execution_count": 23,
     "metadata": {},
     "output_type": "execute_result"
    }
   ],
   "source": [
    "knn = KNN(k=3, weighted=False)\n",
    "knn.fit(x_train, y_train)\n",
    "accuracy_score(knn.predict(x_test), y_test)"
   ]
  },
  {
   "cell_type": "code",
   "execution_count": 28,
   "metadata": {
    "collapsed": false
   },
   "outputs": [],
   "source": [
    "kd = KNN_kd(k=3, weighted=False)\n",
    "kd.fit(x_train, y_train)"
   ]
  },
  {
   "cell_type": "code",
   "execution_count": 35,
   "metadata": {
    "collapsed": false
   },
   "outputs": [
    {
     "name": "stdout",
     "output_type": "stream",
     "text": [
      "CPU times: user 3 µs, sys: 0 ns, total: 3 µs\n",
      "Wall time: 6.91 µs\n"
     ]
    }
   ],
   "source": [
    "%time\n",
    "x = knn.predict(x_test)"
   ]
  },
  {
   "cell_type": "code",
   "execution_count": 34,
   "metadata": {
    "collapsed": false
   },
   "outputs": [
    {
     "name": "stdout",
     "output_type": "stream",
     "text": [
      "CPU times: user 1e+03 ns, sys: 1e+03 ns, total: 2 µs\n",
      "Wall time: 5.01 µs\n"
     ]
    }
   ],
   "source": [
    "%time\n",
    "x = kd.predict(x_test)"
   ]
  },
  {
   "cell_type": "code",
   "execution_count": null,
   "metadata": {
    "collapsed": true
   },
   "outputs": [],
   "source": []
  }
 ],
 "metadata": {
  "kernelspec": {
   "display_name": "Python 2",
   "language": "python",
   "name": "python2"
  },
  "language_info": {
   "codemirror_mode": {
    "name": "ipython",
    "version": 2
   },
   "file_extension": ".py",
   "mimetype": "text/x-python",
   "name": "python",
   "nbconvert_exporter": "python",
   "pygments_lexer": "ipython2",
   "version": "2.7.13"
  }
 },
 "nbformat": 4,
 "nbformat_minor": 0
}
