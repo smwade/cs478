{
 "cells": [
  {
   "cell_type": "code",
   "execution_count": 65,
   "metadata": {
    "collapsed": false
   },
   "outputs": [],
   "source": [
    "import numpy as np\n",
    "from sklearn.metrics import accuracy_score, r2_score, mean_squared_error\n",
    "from scipy.spatial import distance\n",
    "from collections import defaultdict\n",
    "from mltools.dataManager import DataManager\n",
    "import tqdm\n",
    "from sklearn.neighbors import KNeighborsClassifier, KNeighborsRegressor\n",
    "from matplotlib import pyplot as plt\n",
    "import seaborn as sns\n",
    "plt.style.use('ggplot')\n",
    "%matplotlib inline"
   ]
  },
  {
   "cell_type": "code",
   "execution_count": 2,
   "metadata": {
    "collapsed": false
   },
   "outputs": [
    {
     "name": "stdout",
     "output_type": "stream",
     "text": [
      "The autoreload extension is already loaded. To reload it, use:\n",
      "  %reload_ext autoreload\n"
     ]
    }
   ],
   "source": [
    "%load_ext autoreload\n",
    "%autoreload 2"
   ]
  },
  {
   "cell_type": "markdown",
   "metadata": {},
   "source": [
    "<img src='images/knn.png'>"
   ]
  },
  {
   "cell_type": "code",
   "execution_count": 21,
   "metadata": {
    "collapsed": false
   },
   "outputs": [],
   "source": [
    "class KNN():\n",
    "    \n",
    "    def __init__(self, k=3, weighted=True):\n",
    "        self.k = k\n",
    "        self.weighted = weighted\n",
    "    \n",
    "    \n",
    "    def _distance(self, point, neighbors):\n",
    "        try:\n",
    "            eps = 1e-10\n",
    "            return np.sqrt(np.sum((neighbors - point)**2, axis=1)) + eps\n",
    "        except:\n",
    "            return np.sqrt(np.sum((neighbors - point)**2)) + eps\n",
    "\n",
    " \n",
    "    def fit(self, x_train, y_train):\n",
    "        self.data = x_train\n",
    "        self.labels = y_train\n",
    "        \n",
    "        \n",
    "    def predict(self, x_test, weighted=True):\n",
    "        data, labels = self.data, self.labels\n",
    "        n = x_test.shape[0]\n",
    "        closest = np.zeros(n)\n",
    "        \n",
    "        for i in range(n):\n",
    "            dist = self._distance(x_test[i,:], data)\n",
    "            indices = np.argsort(dist, axis=0)\n",
    "            \n",
    "            neighbors = defaultdict(lambda:0)\n",
    "            for j in indices[:self.k]:\n",
    "                if self.weighted:\n",
    "                    weight = 1 / self._distance(x_test[i,:], data[j])**2\n",
    "                else:\n",
    "                    weight = 1\n",
    "                neighbors[labels[j]] += weight\n",
    "            \n",
    "            max_prob = 0\n",
    "            max_key = None\n",
    "            for key, val in neighbors.iteritems():\n",
    "                if val > max_prob:\n",
    "                    max_prob = val\n",
    "                    max_key = key\n",
    "                                \n",
    "            closest[i] = max_key\n",
    "                                \n",
    "        return closest        "
   ]
  },
  {
   "cell_type": "code",
   "execution_count": 4,
   "metadata": {
    "collapsed": true
   },
   "outputs": [],
   "source": [
    "class KNNRegression():\n",
    "    \n",
    "    def __init__(self, k=3, weighted=True):\n",
    "        self.k = k\n",
    "        self.weighted = weighted\n",
    "    \n",
    "    \n",
    "    def _distance(self, point, neighbors):\n",
    "        try:\n",
    "            eps = 1e-10\n",
    "            return np.sqrt(np.sum((neighbors - point)**2, axis=1)) + eps\n",
    "        except:\n",
    "            return np.sqrt(np.sum((neighbors - point)**2)) + eps\n",
    "\n",
    " \n",
    "    def fit(self, x_train, y_train):\n",
    "        self.data = x_train\n",
    "        self.labels = y_train\n",
    "        \n",
    "        \n",
    "    def predict(self, x_test, weighted=True):\n",
    "        data, labels = self.data, self.labels\n",
    "        n = x_test.shape[0]\n",
    "        prediction = np.zeros(n)\n",
    "        \n",
    "        for i in range(n):\n",
    "            dist = self._distance(x_test[i,:], data)\n",
    "            indices = np.argsort(dist, axis=0)\n",
    "            \n",
    "            denominator = 0\n",
    "            numerator = 0\n",
    "            for j in indices[:self.k]:\n",
    "                if self.weighted:\n",
    "                    weight = 1 / self._distance(x_test[i,:], data[j])**2\n",
    "                else:\n",
    "                    weight = 1\n",
    "                neighbors[labels[j]] += weight\n",
    "                \n",
    "                numerator += weight * labels[j]\n",
    "                denominator += weight\n",
    "                \n",
    "            prediction[i] = numerator / denominator\n",
    "                                   \n",
    "        return prediction        "
   ]
  },
  {
   "cell_type": "markdown",
   "metadata": {},
   "source": [
    "#### Load the Data"
   ]
  },
  {
   "cell_type": "code",
   "execution_count": 5,
   "metadata": {
    "collapsed": false
   },
   "outputs": [],
   "source": [
    "data = DataManager('datasets/mt_train.arff')\n",
    "data.normalize()\n",
    "x_train, x_test, y_train, y_test = data.test_train_split()"
   ]
  },
  {
   "cell_type": "markdown",
   "metadata": {},
   "source": [
    "#### Check Against Sklearn"
   ]
  },
  {
   "cell_type": "code",
   "execution_count": 6,
   "metadata": {
    "collapsed": false
   },
   "outputs": [
    {
     "data": {
      "text/plain": [
       "0.81667341157426143"
      ]
     },
     "execution_count": 6,
     "metadata": {},
     "output_type": "execute_result"
    }
   ],
   "source": [
    "knn = KNN(k=3, weighted=False)\n",
    "knn.fit(x_train, y_train)\n",
    "accuracy_score(knn.predict(x_test), y_test)"
   ]
  },
  {
   "cell_type": "code",
   "execution_count": 7,
   "metadata": {
    "collapsed": false
   },
   "outputs": [
    {
     "data": {
      "text/plain": [
       "0.81667341157426143"
      ]
     },
     "execution_count": 7,
     "metadata": {},
     "output_type": "execute_result"
    }
   ],
   "source": [
    "knn = KNeighborsClassifier(n_neighbors=3, weights='uniform')\n",
    "knn.fit(x_train, y_train)\n",
    "knn.score(x_test, y_test)"
   ]
  },
  {
   "cell_type": "code",
   "execution_count": null,
   "metadata": {
    "collapsed": true
   },
   "outputs": [],
   "source": []
  },
  {
   "cell_type": "code",
   "execution_count": 191,
   "metadata": {
    "collapsed": false
   },
   "outputs": [],
   "source": [
    "data = DataManager('datasets/housing-train.arff')\n",
    "data.min_max_normalize()\n",
    "x_train, x_test, y_train, y_test = data.test_train_split()"
   ]
  },
  {
   "cell_type": "code",
   "execution_count": 192,
   "metadata": {
    "collapsed": false
   },
   "outputs": [
    {
     "data": {
      "text/plain": [
       "array([ 24.4       ,  22.5       ,  21.8       ,  20.23333333,\n",
       "        21.16666667,  36.9       ,  22.3       ,  33.06666667,\n",
       "        12.2       ,  22.33333333,  38.53333333,  23.7       ,\n",
       "        22.93333333,  27.33333333,  19.96666667,  21.23333333,\n",
       "        22.        ,  24.06666667,   9.23333333,  11.46666667,\n",
       "        24.16666667,  22.13333333,  19.        ,  21.4       ,\n",
       "        29.66666667,  19.03333333,  20.83333333,  33.8       ,\n",
       "        20.8       ,  23.16666667,  10.46666667,  14.53333333,\n",
       "        20.43333333,  11.6       ,  18.76666667,  22.        ,\n",
       "        16.3       ,  19.96666667,  22.86666667,  31.73333333,\n",
       "        23.06666667,  15.6       ,  23.16666667,  33.63333333,\n",
       "        13.96666667,  21.03333333,  20.7       ,  30.9       ,\n",
       "        18.83333333,  26.1       ,  20.83333333,  30.26666667,\n",
       "        16.26666667,  32.56666667,  20.1       ,  11.13333333,\n",
       "        21.06666667,  23.03333333,  19.33333333,  39.13333333,\n",
       "        14.56666667,  26.36666667,  18.36666667,  12.7       ,\n",
       "        21.23333333,  19.96666667,  26.8       ,  26.83333333,\n",
       "        33.03333333,  40.56666667,  43.56666667,  22.33333333,\n",
       "        24.9       ,  12.26666667,  19.06666667,  23.06666667,\n",
       "        33.83333333,  47.43333333,  20.33333333,  23.        ,\n",
       "        18.86666667,  18.5       ,  16.86666667,   9.43333333,\n",
       "        23.33333333,  14.4       ,  17.33333333,  18.36666667,\n",
       "        19.        ,  21.06666667,  10.6       ])"
      ]
     },
     "execution_count": 192,
     "metadata": {},
     "output_type": "execute_result"
    }
   ],
   "source": [
    "knn = KNNRegression(k=3, weighted=False)\n",
    "knn.fit(x_train, y_train)\n",
    "knn.predict(x_test)"
   ]
  },
  {
   "cell_type": "code",
   "execution_count": 193,
   "metadata": {
    "collapsed": false
   },
   "outputs": [
    {
     "data": {
      "text/plain": [
       "array([ 24.4       ,  22.5       ,  21.8       ,  20.23333333,\n",
       "        21.16666667,  36.9       ,  22.3       ,  33.06666667,\n",
       "        12.2       ,  22.33333333,  38.53333333,  23.7       ,\n",
       "        22.93333333,  27.33333333,  19.96666667,  21.23333333,\n",
       "        22.        ,  24.06666667,   9.23333333,  11.46666667,\n",
       "        24.16666667,  22.13333333,  19.        ,  21.4       ,\n",
       "        29.66666667,  19.03333333,  20.83333333,  33.8       ,\n",
       "        20.8       ,  23.16666667,  10.46666667,  14.53333333,\n",
       "        20.43333333,  11.6       ,  18.76666667,  22.        ,\n",
       "        16.3       ,  19.96666667,  22.86666667,  31.73333333,\n",
       "        23.06666667,  15.6       ,  23.16666667,  33.63333333,\n",
       "        13.96666667,  21.03333333,  20.7       ,  30.9       ,\n",
       "        18.83333333,  26.1       ,  20.83333333,  30.26666667,\n",
       "        16.26666667,  32.56666667,  20.1       ,  11.13333333,\n",
       "        21.06666667,  23.03333333,  19.33333333,  39.13333333,\n",
       "        14.56666667,  26.36666667,  18.36666667,  12.7       ,\n",
       "        21.23333333,  19.96666667,  26.8       ,  26.83333333,\n",
       "        33.03333333,  40.56666667,  43.56666667,  22.33333333,\n",
       "        24.9       ,  12.26666667,  19.06666667,  23.06666667,\n",
       "        33.83333333,  47.43333333,  20.33333333,  23.        ,\n",
       "        18.86666667,  18.5       ,  16.86666667,   9.43333333,\n",
       "        23.33333333,  14.4       ,  17.33333333,  18.36666667,\n",
       "        19.        ,  21.06666667,  10.6       ])"
      ]
     },
     "execution_count": 193,
     "metadata": {},
     "output_type": "execute_result"
    }
   ],
   "source": [
    "knn = KNeighborsRegressor(n_neighbors=3, weights='uniform')\n",
    "knn.fit(x_train, y_train)\n",
    "knn.predict(x_test)"
   ]
  },
  {
   "cell_type": "markdown",
   "metadata": {},
   "source": [
    "## Problem 2"
   ]
  },
  {
   "cell_type": "markdown",
   "metadata": {},
   "source": [
    "### No Normalization"
   ]
  },
  {
   "cell_type": "code",
   "execution_count": 205,
   "metadata": {
    "collapsed": true
   },
   "outputs": [],
   "source": [
    "train = DataManager('datasets/mt_train.arff')\n",
    "x_train, y_train = train.data, train.labels\n",
    "test = DataManager('datasets/mt_test.arff')\n",
    "x_test, y_test = test.data, test.labels"
   ]
  },
  {
   "cell_type": "code",
   "execution_count": 206,
   "metadata": {
    "collapsed": false
   },
   "outputs": [
    {
     "data": {
      "text/plain": [
       "0.80828082808280832"
      ]
     },
     "execution_count": 206,
     "metadata": {},
     "output_type": "execute_result"
    }
   ],
   "source": [
    "knn = KNN(k=3, weighted=False)\n",
    "knn.fit(x_train, y_train)\n",
    "accuracy_score(knn.predict(x_test), y_test)"
   ]
  },
  {
   "cell_type": "markdown",
   "metadata": {},
   "source": [
    "### With normalization"
   ]
  },
  {
   "cell_type": "code",
   "execution_count": 203,
   "metadata": {
    "collapsed": true
   },
   "outputs": [],
   "source": [
    "train = DataManager('datasets/mt_train.arff')\n",
    "train.min_max_normalize()\n",
    "x_train, y_train = train.data, train.labels\n",
    "test = DataManager('datasets/mt_test.arff')\n",
    "test.min_max_normalize()\n",
    "x_test, y_test = test.data, test.labels"
   ]
  },
  {
   "cell_type": "code",
   "execution_count": 204,
   "metadata": {
    "collapsed": false
   },
   "outputs": [
    {
     "data": {
      "text/plain": [
       "0.81578157815781582"
      ]
     },
     "execution_count": 204,
     "metadata": {},
     "output_type": "execute_result"
    }
   ],
   "source": [
    "knn = KNN(k=3, weighted=False)\n",
    "knn.fit(x_train, y_train)\n",
    "accuracy_score(knn.predict(x_test), y_test)"
   ]
  },
  {
   "cell_type": "markdown",
   "metadata": {},
   "source": [
    "### Other normalization"
   ]
  },
  {
   "cell_type": "code",
   "execution_count": 258,
   "metadata": {
    "collapsed": true
   },
   "outputs": [],
   "source": [
    "train = DataManager('datasets/mt_train.arff')\n",
    "train.normalize()\n",
    "x_train, y_train = train.data, train.labels\n",
    "test = DataManager('datasets/mt_test.arff')\n",
    "test.normalize()\n",
    "x_test, y_test = test.data, test.labels"
   ]
  },
  {
   "cell_type": "code",
   "execution_count": 250,
   "metadata": {
    "collapsed": false
   },
   "outputs": [
    {
     "data": {
      "text/plain": [
       "0.83648364836483646"
      ]
     },
     "execution_count": 250,
     "metadata": {},
     "output_type": "execute_result"
    }
   ],
   "source": [
    "knn = KNN(k=3, weighted=False)\n",
    "knn.fit(x_train, y_train)\n",
    "accuracy_score(knn.predict(x_test), y_test)"
   ]
  },
  {
   "cell_type": "code",
   "execution_count": 251,
   "metadata": {
    "collapsed": true
   },
   "outputs": [],
   "source": [
    "knn_acc = []\n",
    "for k in range(1,16,2):\n",
    "    knn = KNN(k=k, weighted=True)\n",
    "    knn.fit(x_train, y_train)\n",
    "    knn_acc.append(accuracy_score(knn.predict(x_test), y_test))"
   ]
  },
  {
   "cell_type": "code",
   "execution_count": 252,
   "metadata": {
    "collapsed": false
   },
   "outputs": [
    {
     "data": {
      "image/png": "[encoded data removed]",
      "text/plain": [
       "<matplotlib.figure.Figure at 0x114b0e050>"
      ]
     },
     "metadata": {},
     "output_type": "display_data"
    }
   ],
   "source": [
    "plt.plot(range(1,16,2), knn_acc)\n",
    "plt.xlabel('k')\n",
    "plt.ylabel('Acc %')\n",
    "plt.title('Magic Telecope, K vs Acc')\n",
    "plt.xlim(1,15)\n",
    "plt.savefig('mt.svg', format='svg', dpi=1200)"
   ]
  },
  {
   "cell_type": "markdown",
   "metadata": {},
   "source": [
    "## Problem 3"
   ]
  },
  {
   "cell_type": "code",
   "execution_count": 246,
   "metadata": {
    "collapsed": true
   },
   "outputs": [],
   "source": [
    "train = DataManager('datasets/housing-train.arff')\n",
    "train.normalize()\n",
    "x_train, y_train = train.data, train.labels\n",
    "test = DataManager('datasets/housing-test.arff')\n",
    "test.normalize()\n",
    "x_test, y_test = test.data, test.labels"
   ]
  },
  {
   "cell_type": "code",
   "execution_count": 247,
   "metadata": {
    "collapsed": false
   },
   "outputs": [],
   "source": [
    "knn_acc = []\n",
    "for k in range(1,16,2):\n",
    "    knn = KNNRegression(k=k, weighted=True)\n",
    "    knn.fit(x_train, y_train)\n",
    "    knn_acc.append(mean_squared_error(knn.predict(x_test), y_test))"
   ]
  },
  {
   "cell_type": "code",
   "execution_count": 248,
   "metadata": {
    "collapsed": false
   },
   "outputs": [
    {
     "data": {
      "image/png": "[encoded data removed]",
      "text/plain": [
       "<matplotlib.figure.Figure at 0x114509210>"
      ]
     },
     "metadata": {},
     "output_type": "display_data"
    }
   ],
   "source": [
    "plt.plot(range(1,16,2), knn_acc)\n",
    "plt.xlabel('k')\n",
    "plt.ylabel('Mean Squared Error')\n",
    "plt.title('Housing Price Prediction')\n",
    "plt.xlim(1,15)\n",
    "plt.savefig('housing.svg', format='svg', dpi=1200)"
   ]
  },
  {
   "cell_type": "markdown",
   "metadata": {},
   "source": [
    "## Problem 5"
   ]
  },
  {
   "cell_type": "code",
   "execution_count": 253,
   "metadata": {
    "collapsed": true
   },
   "outputs": [],
   "source": [
    "data = DataManager('datasets/credit-a.arff')\n",
    "data.normalize()\n",
    "x_train, x_test, y_train, y_test = data.test_train_split()"
   ]
  },
  {
   "cell_type": "code",
   "execution_count": 256,
   "metadata": {
    "collapsed": false
   },
   "outputs": [
    {
     "name": "stdout",
     "output_type": "stream",
     "text": [
      "@RELATION credit-rating@ATTRIBUTE A1\n",
      " {b, a}\n",
      "@ATTRIBUTE A2\n",
      " CONTINUOUS\n",
      "@ATTRIBUTE A3\n",
      " CONTINUOUS\n",
      "@ATTRIBUTE A4\n",
      " {u, y, l, t}\n",
      "@ATTRIBUTE A5\n",
      " {g, p, gg}\n",
      "@ATTRIBUTE A6\n",
      " {c, d, cc, i, j, k, m, r, q, w, x, e, aa, ff}\n",
      "@ATTRIBUTE A7\n",
      " {v, h, bb, j, n, z, dd, ff, o}\n",
      "@ATTRIBUTE A8\n",
      " CONTINUOUS\n",
      "@ATTRIBUTE A9\n",
      " {t, f}\n",
      "@ATTRIBUTE A10\n",
      " {t, f}\n",
      "@ATTRIBUTE A11\n",
      " CONTINUOUS\n",
      "@ATTRIBUTE A12\n",
      " {t, f}\n",
      "@ATTRIBUTE A13\n",
      " {g, p, s}\n",
      "@ATTRIBUTE A14\n",
      " CONTINUOUS\n",
      "@ATTRIBUTE A15\n",
      " CONTINUOUS\n",
      "@ATTRIBUTE class\n",
      " {+, -}\n",
      "@DATA\n",
      "[[   0.      67.75     5.5   ...,    0.       0.       0.   ]\n",
      " [   0.      20.42     1.085 ...,    0.     108.       7.   ]\n",
      " [   0.      36.5      4.25  ...,    0.     454.      50.   ]\n",
      " ..., \n",
      " [   0.      28.25     5.125 ...,    0.     420.       7.   ]\n",
      " [   0.      21.42     0.75  ...,    0.     132.       2.   ]\n",
      " [   0.      19.42     7.25  ...,    0.     100.       1.   ]]\n"
     ]
    }
   ],
   "source": [
    "print data"
   ]
  },
  {
   "cell_type": "code",
   "execution_count": 8,
   "metadata": {
    "collapsed": true
   },
   "outputs": [],
   "source": [
    "from scipy.spatial import kdtree"
   ]
  },
  {
   "cell_type": "code",
   "execution_count": 13,
   "metadata": {
    "collapsed": false
   },
   "outputs": [
    {
     "data": {
      "text/plain": [
       "array([-0.52029948, -0.4436906 , -0.48310463,  0.03730648, -0.02028129,\n",
       "       -0.54479627,  0.18929675, -0.45301518,  2.06963304,  0.56305572])"
      ]
     },
     "execution_count": 13,
     "metadata": {},
     "output_type": "execute_result"
    }
   ],
   "source": [
    "x_test[0,:]"
   ]
  },
  {
   "cell_type": "code",
   "execution_count": 9,
   "metadata": {
    "collapsed": false
   },
   "outputs": [],
   "source": [
    "kd = kdtree.KDTree(x_train)"
   ]
  },
  {
   "cell_type": "code",
   "execution_count": 18,
   "metadata": {
    "collapsed": false
   },
   "outputs": [
    {
     "data": {
      "text/plain": [
       "(array([ 0.37454211,  0.39884559,  0.79220495,  0.80642474,  0.81612462,\n",
       "         0.85238838,  0.86741427,  0.89844384]),\n",
       " array([2355, 4044, 4688, 6138,  322, 1002, 1346,   83]))"
      ]
     },
     "execution_count": 18,
     "metadata": {},
     "output_type": "execute_result"
    }
   ],
   "source": [
    "kd.query(x_test[0,:], k=8)"
   ]
  },
  {
   "cell_type": "code",
   "execution_count": 269,
   "metadata": {
    "collapsed": false
   },
   "outputs": [
    {
     "data": {
      "text/plain": [
       "array([-0.72274438, -0.39772184, -0.8231228 ,  0.64474212,  0.32735342,\n",
       "       -0.16236592, -0.38955674,  0.61681988, -0.94493536, -0.69080543])"
      ]
     },
     "execution_count": 269,
     "metadata": {},
     "output_type": "execute_result"
    }
   ],
   "source": [
    "x_train[0,:]"
   ]
  },
  {
   "cell_type": "code",
   "execution_count": 17,
   "metadata": {
    "collapsed": false
   },
   "outputs": [
    {
     "data": {
      "text/plain": [
       "(9883, 10)"
      ]
     },
     "execution_count": 17,
     "metadata": {},
     "output_type": "execute_result"
    }
   ],
   "source": [
    "kd.data.shape"
   ]
  },
  {
   "cell_type": "code",
   "execution_count": 25,
   "metadata": {
    "collapsed": true
   },
   "outputs": [],
   "source": [
    "class KNN_kd():\n",
    "    \n",
    "    def __init__(self, k=3, weighted=True):\n",
    "        self.k = k\n",
    "        self.weighted = weighted\n",
    "    \n",
    "    \n",
    "    def _distance(self, point, neighbors):\n",
    "        try:\n",
    "            eps = 1e-10\n",
    "            return np.sqrt(np.sum((neighbors - point)**2, axis=1)) + eps\n",
    "        except:\n",
    "            return np.sqrt(np.sum((neighbors - point)**2)) + eps\n",
    "\n",
    " \n",
    "    def fit(self, x_train, y_train):\n",
    "        self.kd_tree = kdtree.KDTree(x_train)\n",
    "        self.labels = y_train\n",
    "        \n",
    "        \n",
    "    def predict(self, x_test, weighted=True):\n",
    "        kd_tree, labels = self.kd_tree, self.labels\n",
    "        n = x_test.shape[0]\n",
    "        closest = np.zeros(n)\n",
    "        \n",
    "        for i in range(n):\n",
    "            dist, indx_list = kd_tree.query(x_test[i,:], self.k)\n",
    "            neighbors = defaultdict(lambda:0)\n",
    "            for j in indx_list:\n",
    "                if self.weighted:\n",
    "                    weight = 1 / self._distance(x_test[i,:], data[j])**2\n",
    "                else:\n",
    "                    weight = 1\n",
    "                neighbors[labels[j]] += weight\n",
    "            \n",
    "            max_prob = 0\n",
    "            max_key = None\n",
    "            for key, val in neighbors.iteritems():\n",
    "                if val > max_prob:\n",
    "                    max_prob = val\n",
    "                    max_key = key\n",
    "                                \n",
    "            closest[i] = max_key\n",
    "                                \n",
    "        return closest        "
   ]
  },
  {
   "cell_type": "code",
   "execution_count": 59,
   "metadata": {
    "collapsed": true
   },
   "outputs": [],
   "source": [
    "import time"
   ]
  },
  {
   "cell_type": "code",
   "execution_count": 36,
   "metadata": {
    "collapsed": true
   },
   "outputs": [],
   "source": [
    "def _distance(point, neighbors):\n",
    "    try:\n",
    "        eps = 1e-10\n",
    "        return np.sqrt(np.sum((neighbors - point)**2, axis=1)) + eps\n",
    "    except:\n",
    "        return np.sqrt(np.sum((neighbors - point)**2)) + eps"
   ]
  },
  {
   "cell_type": "code",
   "execution_count": 56,
   "metadata": {
    "collapsed": false
   },
   "outputs": [],
   "source": [
    "data = np.random.random((1000,5)) * 100\n",
    "k = 5\n",
    "kd_tree = kdtree.KDTree(data)\n",
    "point = np.random.random(5) * 100"
   ]
  },
  {
   "cell_type": "code",
   "execution_count": 124,
   "metadata": {
    "collapsed": false
   },
   "outputs": [
    {
     "name": "stderr",
     "output_type": "stream",
     "text": [
      "100%|██████████| 7/7 [01:00<00:00, 17.59s/it]\n"
     ]
    }
   ],
   "source": [
    "regular_times = []\n",
    "tree_times = []\n",
    "time_diff = []\n",
    "\n",
    "for x in tqdm.tqdm([10**i for i in range(1,8)]):\n",
    "    data = np.random.random((x,5)) * 100\n",
    "    k = 5\n",
    "    kd_tree = kdtree.KDTree(data)\n",
    "    point = np.random.random(5) * 100\n",
    "\n",
    "    start = time.time()\n",
    "    dist = _distance(point, data)\n",
    "    indices = np.argsort(dist, axis=0)\n",
    "    indices = indices[:k]\n",
    "    end = time.time()\n",
    "    reg_time = end - start\n",
    "\n",
    "    start = time.time()\n",
    "    dist, indx_list = kd_tree.query(point, k)\n",
    "    end = time.time()\n",
    "    tree_time = end - start\n",
    "    regular_times.append(reg_time)\n",
    "    tree_times.append(tree_time)\n",
    "    \n",
    "    time_diff.append(reg_time - tree_time)"
   ]
  },
  {
   "cell_type": "code",
   "execution_count": 125,
   "metadata": {
    "collapsed": false
   },
   "outputs": [
    {
     "data": {
      "text/plain": [
       "<matplotlib.legend.Legend at 0x10b4f9050>"
      ]
     },
     "execution_count": 125,
     "metadata": {},
     "output_type": "execute_result"
    },
    {
     "data": {
      "image/png": "[encoded data removed]",
      "text/plain": [
       "<matplotlib.figure.Figure at 0x189104810>"
      ]
     },
     "metadata": {},
     "output_type": "display_data"
    }
   ],
   "source": [
    "plt.plot(regular_times, label='Brute Force')\n",
    "plt.plot(tree_times, label='KD Tree')\n",
    "plt.legend(loc='upper left')"
   ]
  },
  {
   "cell_type": "code",
   "execution_count": 126,
   "metadata": {
    "collapsed": false
   },
   "outputs": [
    {
     "data": {
      "image/png": "[encoded data removed]",
      "text/plain": [
       "<matplotlib.figure.Figure at 0x11abb9b50>"
      ]
     },
     "metadata": {},
     "output_type": "display_data"
    }
   ],
   "source": [
    "plt.bar(range(1,8), time_diff, align='center')\n",
    "plt.xticks(range(1,8), [10**i for i in range(1,8)], rotation='45')\n",
    "plt.xlim(0,7.5)\n",
    "plt.ylim(0,3.5)\n",
    "plt.xlabel('Number Data Points')\n",
    "plt.ylabel('Time diff (seconds)')\n",
    "plt.title('Time Gains with KDTree')\n",
    "plt.savefig('depth-vs-time.png', format='png', dpi=1200)"
   ]
  },
  {
   "cell_type": "code",
   "execution_count": 115,
   "metadata": {
    "collapsed": false
   },
   "outputs": [
    {
     "name": "stderr",
     "output_type": "stream",
     "text": [
      "100%|██████████| 9/9 [01:23<00:00, 11.15s/it]\n"
     ]
    }
   ],
   "source": [
    "regular_times = []\n",
    "tree_times = []\n",
    "time_diff = []\n",
    "\n",
    "for x in tqdm.tqdm([5*i for i in range(1,10)]):\n",
    "    data = np.random.random((1000000,x)) * 100\n",
    "    k = 5\n",
    "    kd_tree = kdtree.KDTree(data)\n",
    "    point = np.random.random(x) * 100\n",
    "\n",
    "    start = time.time()\n",
    "    dist = _distance(point, data)\n",
    "    indices = np.argsort(dist, axis=0)\n",
    "    indices = indices[:k]\n",
    "    end = time.time()\n",
    "    reg_time = end - start\n",
    "\n",
    "    start = time.time()\n",
    "    dist, indx_list = kd_tree.query(point, k)\n",
    "    end = time.time()\n",
    "    tree_time = end - start\n",
    "    regular_times.append(reg_time)\n",
    "    tree_times.append(tree_time)\n",
    "    \n",
    "    time_diff.append(reg_time - tree_time)"
   ]
  },
  {
   "cell_type": "code",
   "execution_count": 122,
   "metadata": {
    "collapsed": false
   },
   "outputs": [
    {
     "data": {
      "image/png": "[encoded data removed]",
      "text/plain": [
       "<matplotlib.figure.Figure at 0x11cba2590>"
      ]
     },
     "metadata": {},
     "output_type": "display_data"
    }
   ],
   "source": [
    "plt.title('Number of Features vs Time')\n",
    "plt.ylabel('Time (seconds)')\n",
    "plt.xlabel('Number of Features')\n",
    "plt.xticks(range(0,8), [5*i for i in range(1,11)])\n",
    "plt.plot(regular_times, label='Brute Force')\n",
    "plt.plot(tree_times, label='KD Tree')\n",
    "plt.legend(loc='upper left')\n",
    "plt.savefig('features-vs-time.png', format='png', dpi=1200)"
   ]
  },
  {
   "cell_type": "code",
   "execution_count": 26,
   "metadata": {
    "collapsed": true
   },
   "outputs": [],
   "source": [
    "train = DataManager('datasets/mt_train.arff')\n",
    "train.normalize()\n",
    "x_train, y_train = train.data, train.labels\n",
    "test = DataManager('datasets/mt_test.arff')\n",
    "test.normalize()\n",
    "x_test, y_test = test.data, test.labels"
   ]
  },
  {
   "cell_type": "code",
   "execution_count": 23,
   "metadata": {
    "collapsed": false
   },
   "outputs": [
    {
     "data": {
      "text/plain": [
       "0.83648364836483646"
      ]
     },
     "execution_count": 23,
     "metadata": {},
     "output_type": "execute_result"
    }
   ],
   "source": [
    "knn = KNN(k=3, weighted=False)\n",
    "knn.fit(x_train, y_train)\n",
    "accuracy_score(knn.predict(x_test), y_test)"
   ]
  },
  {
   "cell_type": "code",
   "execution_count": 28,
   "metadata": {
    "collapsed": false
   },
   "outputs": [],
   "source": [
    "kd = KNN_kd(k=3, weighted=False)\n",
    "kd.fit(x_train, y_train)"
   ]
  },
  {
   "cell_type": "code",
   "execution_count": 35,
   "metadata": {
    "collapsed": false
   },
   "outputs": [
    {
     "name": "stdout",
     "output_type": "stream",
     "text": [
      "CPU times: user 3 µs, sys: 0 ns, total: 3 µs\n",
      "Wall time: 6.91 µs\n"
     ]
    }
   ],
   "source": [
    "%time\n",
    "x = knn.predict(x_test)"
   ]
  },
  {
   "cell_type": "code",
   "execution_count": 34,
   "metadata": {
    "collapsed": false
   },
   "outputs": [
    {
     "name": "stdout",
     "output_type": "stream",
     "text": [
      "CPU times: user 1e+03 ns, sys: 1e+03 ns, total: 2 µs\n",
      "Wall time: 5.01 µs\n"
     ]
    }
   ],
   "source": [
    "%time\n",
    "x = kd.predict(x_test)"
   ]
  },
  {
   "cell_type": "code",
   "execution_count": null,
   "metadata": {
    "collapsed": true
   },
   "outputs": [],
   "source": []
  }
 ],
 "metadata": {
  "kernelspec": {
   "display_name": "Python 2",
   "language": "python",
   "name": "python2"
  },
  "language_info": {
   "codemirror_mode": {
    "name": "ipython",
    "version": 2
   },
   "file_extension": ".py",
   "mimetype": "text/x-python",
   "name": "python",
   "nbconvert_exporter": "python",
   "pygments_lexer": "ipython2",
   "version": "2.7.13"
  }
 },
 "nbformat": 4,
 "nbformat_minor": 0
}
